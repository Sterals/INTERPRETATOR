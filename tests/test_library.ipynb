{
 "cells": [
  {
   "cell_type": "code",
   "execution_count": 1,
   "id": "accredited-optimum",
   "metadata": {},
   "outputs": [],
   "source": [
    "import pandas as pd\n",
    "from sklearn.metrics import roc_auc_score\n",
    "import xgboost as xgb\n",
    "import numpy as np\n",
    "from collections import defaultdict\n",
    "import scipy\n",
    "import matplotlib.pyplot as plt\n",
    "\n"
   ]
  },
  {
   "cell_type": "code",
   "execution_count": 2,
   "id": "stretch-lithuania",
   "metadata": {},
   "outputs": [],
   "source": [
    "test_merged = pd.read_csv('test_merged.csv')\n",
    "train_merged = pd.read_csv('train_merged.csv')"
   ]
  },
  {
   "cell_type": "code",
   "execution_count": 3,
   "id": "alert-colleague",
   "metadata": {},
   "outputs": [
    {
     "name": "stdout",
     "output_type": "stream",
     "text": [
      "X_train shape: (307511, 128)\n"
     ]
    }
   ],
   "source": [
    "X_train = train_merged.drop(['TARGET'], axis = 1)\n",
    "X_test = test_merged.copy()\n",
    "y_train = train_merged.TARGET.values\n",
    "print('X_train shape:', X_train.shape)"
   ]
  },
  {
   "cell_type": "markdown",
   "id": "distinct-prize",
   "metadata": {},
   "source": [
    "### Обучаем модель"
   ]
  },
  {
   "cell_type": "code",
   "execution_count": 4,
   "id": "electoral-placement",
   "metadata": {},
   "outputs": [
    {
     "data": {
      "text/plain": [
       "XGBClassifier(base_score=0.5, booster='gbtree', colsample_bylevel=1,\n",
       "       colsample_bynode=1, colsample_bytree=1, eval_metric='auc',\n",
       "       gamma=0.382, learning_rate=0.277, max_delta_step=0, max_depth=4,\n",
       "       min_child_weight=1, missing=None, n_estimators=100, n_jobs=1,\n",
       "       nthread=None, objective='binary:logistic', random_state=42,\n",
       "       reg_alpha=0, reg_lambda=1, scale_pos_weight=1, seed=None,\n",
       "       silent=None, subsample=1, verbosity=1)"
      ]
     },
     "execution_count": 4,
     "metadata": {},
     "output_type": "execute_result"
    }
   ],
   "source": [
    "xgb_model = xgb.XGBClassifier(objective=\"binary:logistic\", random_state=42, eval_metric=\"auc\", \n",
    "                              max_depth=4,learning_rate=0.277, gamma=0.382)\n",
    "xgb_model.fit(X_train, y_train)"
   ]
  },
  {
   "cell_type": "code",
   "execution_count": 5,
   "id": "prepared-delicious",
   "metadata": {},
   "outputs": [
    {
     "name": "stdout",
     "output_type": "stream",
     "text": [
      "0.7662371085332839\n"
     ]
    }
   ],
   "source": [
    "print(roc_auc_score(y_train, xgb_model.predict_proba(X_train)[:,1]))"
   ]
  },
  {
   "cell_type": "code",
   "execution_count": 6,
   "id": "imposed-insured",
   "metadata": {},
   "outputs": [
    {
     "data": {
      "text/plain": [
       "XGBClassifier(base_score=0.5, booster='gbtree', colsample_bylevel=1,\n",
       "       colsample_bynode=1, colsample_bytree=1, eval_metric='auc',\n",
       "       gamma=0.382, learning_rate=0.277, max_delta_step=0, max_depth=4,\n",
       "       min_child_weight=1, missing=None, n_estimators=100, n_jobs=1,\n",
       "       nthread=None, objective='binary:logistic', random_state=42,\n",
       "       reg_alpha=0, reg_lambda=1, scale_pos_weight=1, seed=None,\n",
       "       silent=None, subsample=1, verbosity=1)"
      ]
     },
     "execution_count": 6,
     "metadata": {},
     "output_type": "execute_result"
    }
   ],
   "source": [
    "xgb_array = xgb.XGBClassifier(objective=\"binary:logistic\", random_state=42, eval_metric=\"auc\", \n",
    "                              max_depth=4,learning_rate=0.277, gamma=0.382)\n",
    "xgb_array.fit(X_train.values, y_train)"
   ]
  },
  {
   "cell_type": "markdown",
   "id": "wound-family",
   "metadata": {},
   "source": [
    "### Интерпретатор"
   ]
  },
  {
   "cell_type": "code",
   "execution_count": 32,
   "id": "material-revision",
   "metadata": {},
   "outputs": [],
   "source": [
    "import shap\n",
    "import numpy as np\n",
    "import matplotlib.pyplot as plt\n",
    "from skater.model import InMemoryModel\n",
    "from skater.core.explanations import Interpretation\n",
    "from skater.core.local_interpretation.lime.lime_tabular import LimeTabularExplainer\n",
    "from skater.util.dataops import show_in_notebook\n",
    "import types\n",
    "\n",
    "class BaseInterpretator:\n",
    "    \"\"\"\n",
    "    Базовый класс интерпретатора\n",
    "    \"\"\"\n",
    "\n",
    "    def __init__(self, model, objective = 'classification', algorithm = 'boosting'):\n",
    "        \"\"\"\n",
    "        Создаёт объект интерпретатора\n",
    "        :type algorithm: Алгоритм модели. Допустимые значения: boosting, random_forest\n",
    "        :type objective: Тип целевой переменной в модели. Допустимые значения: classification, regression\n",
    "        :param model: Модель для интерпретации\n",
    "        \"\"\"\n",
    "        if objective not in ['classification', 'regression']:\n",
    "            raise BaseException('Unknown Objective')\n",
    "        if algorithm not in ['boosting', 'random_forest']:\n",
    "            raise BaseException('Unknown algorithm')\n",
    "\n",
    "        self.__model = model\n",
    "        self.__shap_explainer = None\n",
    "        self.__skater_explainer = None\n",
    "        self.__annotated_model = None\n",
    "\n",
    "        self.__objective = objective\n",
    "        self.__algo = algorithm\n",
    "    \n",
    "    def fit_shap(self):\n",
    "        self.__shap_explainer = shap.TreeExplainer(self.__model)\n",
    "        return\n",
    "\n",
    "    def shap(self, data, type = 'summary_plot', num_features = None):\n",
    "        \"\"\"\n",
    "        Плейсхолдер для метода интепретации\n",
    "        :param type: Тип графика\n",
    "        :param data: Данные, на которых построенна модель. Используются для отдельных видоп интепретации\n",
    "        :return: Возвращает результат интепретации\n",
    "        \"\"\"\n",
    "        # Проверка параметров\n",
    "        if self.__shap_explainer is None:\n",
    "            raise BaseException(\"SHAP explainer is not fitted. Run fit_shap at first\")\n",
    "\n",
    "        if self.__algo == \"random_forest\":\n",
    "            shap_values = self.__shap_explainer.shap_values(data)[1]\n",
    "            expected_value = self.__shap_explainer.expected_value[1]\n",
    "        else:\n",
    "            shap_values = self.__shap_explainer.shap_values(data)\n",
    "            expected_value = self.__shap_explainer.expected_value\n",
    "\n",
    "        if type == 'summary_plot':\n",
    "            return shap.summary_plot(shap_values, data, max_display = num_features)\n",
    "        elif type == 'summary_bar_plot':\n",
    "            return shap.summary_plot(shap_values, data, plot_type='bar', max_display = num_features)\n",
    "        elif type == 'individual_plot':\n",
    "            shap.initjs()\n",
    "            return shap.force_plot(expected_value, shap_values, data)\n",
    "        else:\n",
    "            raise BaseException('Unknown SHAP plot type')\n",
    "        \n",
    "    def fit_skater(self, data):\n",
    "        \"\"\"\n",
    "        :param data: Набор данных\n",
    "        \"\"\"\n",
    "        self.__skater_explainer = Interpretation(data, feature_names=data.columns)\n",
    "\n",
    "        if self.__objective == 'classification':\n",
    "            self.__annotated_model = InMemoryModel(self.__model.predict_proba, examples=data)\n",
    "        elif self.__objective == 'regression':\n",
    "            self.__annotated_model = InMemoryModel(self.__model.predict, examples=data)\n",
    "        \n",
    "    def pdp(self, features, grid_resolution = 30, n_samples=10000):\n",
    "        \"\"\"\n",
    "        Возврщает график PDP\n",
    "        :param features: tuple из 1 или 2 фичей\n",
    "        :param grid_resolution: Количество ячеек по каждой из осей\n",
    "        :param n_samples: The number of samples to use from the original dataset\n",
    "        :return: Возвращает график PDP\n",
    "        \"\"\"\n",
    "\n",
    "        if self.__skater_explainer is None or self.__annotated_model is None:\n",
    "            raise BaseException(\"Skater explainer is not fitted. Run fit_skater at first\")\n",
    "\n",
    "        pdp_features = [features]\n",
    "\n",
    "        return self.__skater_explainer.partial_dependence.plot_partial_dependence(pdp_features,\n",
    "                                                       self.__annotated_model,\n",
    "                                                       grid_resolution=grid_resolution,\n",
    "                                                       n_samples=n_samples,\n",
    "                                                       n_jobs=-1)\n",
    "        \n",
    "    def analyze_voters(self, obj, figsize=[10, 7]):\n",
    "        \"\"\"\n",
    "        Проводит анализ голосвания деревьев в лесу\n",
    "        :param obj: Анализируемое наблюдение\n",
    "        :param figsize: Размер выходного графика\n",
    "        :return: Результаты голосования деревьев\n",
    "        \"\"\"\n",
    "        if self.__algo != 'random_forest':\n",
    "            raise BaseException(\"Can be used only for Random Forest\")\n",
    "\n",
    "        def get_voters(obj):\n",
    "            predicted_pobas = list()\n",
    "\n",
    "            for est in self.__model.estimators_:\n",
    "                probas = est.predict_proba(obj)\n",
    "                predicted_pobas.append([p[1] for p in probas][0])\n",
    "            return predicted_pobas\n",
    "\n",
    "\n",
    "        predicted_pobas = get_voters(obj)\n",
    "        mean_pred = np.mean(predicted_pobas)\n",
    "        std_pred = np.std(predicted_pobas)\n",
    "\n",
    "        fig = plt.figure(figsize=figsize)\n",
    "        plt.hlines(mean_pred, xmin=0, xmax=len(predicted_pobas), label='mean prediction')\n",
    "        bar_char = plt.bar(x=list(range(len(predicted_pobas))), height=predicted_pobas)\n",
    "        cum_vote = plt.plot(sorted(predicted_pobas), c='red', label='cum votes')\n",
    "        plt.legend()\n",
    "\n",
    "        return predicted_pobas, bar_char, cum_vote\n",
    "    \n",
    "    def get_decision_rules(self, X_train, y_train, filename):\n",
    "        \"\"\"\n",
    "        ВАЖНО! Работает только для обучающей выборки\n",
    "        :X_train: DataFrame, \n",
    "        :y_train: Series or numpy array, вектор таргетов\n",
    "        \"\"\"\n",
    "        \n",
    "        surrogate_explainer = self.__skater_explainer.tree_surrogate(oracle=self.__annotated_model, seed=33)\n",
    "        f1 = surrogate_explainer.fit(X_train, y_train, use_oracle=True, prune='pre', scorer_type='f1')\n",
    "        print('F1 score for the surrogate tree: ', f1)\n",
    "\n",
    "        def plot_tree_new(self, features_names, colors=None, \n",
    "                                         enable_node_id=True, random_state=0, \n",
    "                                         file_name=filename,\n",
    "                                          show_img=False, fig_size=(20, 8)):\n",
    "            \"\"\" Visualizes the decision policies of the surrogate tree.\n",
    "            \"\"\"\n",
    "            self.feature_names = features_names\n",
    "            graph_inst = plot_tree(self.__model, self.__mfodel_type, feature_names=self.feature_names, color_list=colors,\n",
    "                                       class_names=self.class_names, enable_node_id=enable_node_id, seed=random_state)\n",
    "            f_name = \"interpretable_tree.png\" if file_name is None else file_name\n",
    "            graph_inst.write_png(f_name)\n",
    "\n",
    "            try:\n",
    "                import matplotlib\n",
    "                matplotlib.use('agg')\n",
    "                import matplotlib.pyplot as plt\n",
    "            except ImportError:\n",
    "                raise exceptions.MatplotlibUnavailableError(\"Matplotlib is required but unavailable on the system.\")\n",
    "            except RuntimeError:\n",
    "                raise exceptions.MatplotlibDisplayError(\"Matplotlib unable to open display\")\n",
    "\n",
    "            if show_img:\n",
    "                plt.rcParams[\"figure.figsize\"] = fig_size\n",
    "                img = plt.imread(f_name)\n",
    "                if self.__model_type == 'regressor':\n",
    "                    cax = plt.imshow(img, cmap=plt.cm.get_cmap(graph_inst.get_colorscheme()))\n",
    "                    plt.colorbar(cax)\n",
    "                else:\n",
    "                    plt.imshow(img)\n",
    "            return graph_inst\n",
    "        \n",
    "        \n",
    "        surrogate_explainer.plot_tree = types.MethodType(plot_tree_new, surrogate_explainer)\n",
    "        surrogate_explainer.plot_tree(X_train.columns)\n",
    "        \n",
    "        show_in_notebook(filename, width=1200, height=800);\n",
    "    \n",
    "    def lime(self, data, index_example, class_names = None):\n",
    "        \"\"\"\n",
    "        Важно! Для LIME модель должна быть обучена на numpy array\n",
    "        :data: DataFrame, датасет с исходными данными\n",
    "        :class_names: имена классов \n",
    "        :index_example: list, номер индекса объекта, который хотим интерпретировать\n",
    "        \"\"\"\n",
    "        #принимает в качестве данных только numpy array\n",
    "        exp = LimeTabularExplainer(data.values, feature_names=data.columns, discretize_continuous=True, \n",
    "                           class_names=class_names)\n",
    "        #if type(index_example) \n",
    "        for i in index_example:\n",
    "            predictions = xgb_array.predict_proba(data)\n",
    "            print('Predicted:', predictions[i])\n",
    "            exp.explain_instance(X_train.iloc[i].values, self.__model.predict_proba).show_in_notebook()\n",
    "        "
   ]
  },
  {
   "cell_type": "code",
   "execution_count": 33,
   "id": "worth-canvas",
   "metadata": {},
   "outputs": [
    {
     "ename": "KeyboardInterrupt",
     "evalue": "",
     "output_type": "error",
     "traceback": [
      "\u001b[0;31m---------------------------------------------------------------------------\u001b[0m",
      "\u001b[0;31mKeyboardInterrupt\u001b[0m                         Traceback (most recent call last)",
      "\u001b[0;32m<ipython-input-33-c1c19e190def>\u001b[0m in \u001b[0;36m<module>\u001b[0;34m\u001b[0m\n\u001b[1;32m      1\u001b[0m \u001b[0minterp\u001b[0m \u001b[0;34m=\u001b[0m \u001b[0mBaseInterpretator\u001b[0m\u001b[0;34m(\u001b[0m\u001b[0mxgb_model\u001b[0m\u001b[0;34m)\u001b[0m\u001b[0;34m\u001b[0m\u001b[0;34m\u001b[0m\u001b[0m\n\u001b[0;32m----> 2\u001b[0;31m \u001b[0minterp\u001b[0m\u001b[0;34m.\u001b[0m\u001b[0mfit_skater\u001b[0m\u001b[0;34m(\u001b[0m\u001b[0mX_train\u001b[0m\u001b[0;34m)\u001b[0m\u001b[0;34m\u001b[0m\u001b[0;34m\u001b[0m\u001b[0m\n\u001b[0m\u001b[1;32m      3\u001b[0m \u001b[0minterp\u001b[0m\u001b[0;34m.\u001b[0m\u001b[0mget_decision_rules\u001b[0m\u001b[0;34m(\u001b[0m\u001b[0mX_train\u001b[0m\u001b[0;34m,\u001b[0m \u001b[0my_train\u001b[0m\u001b[0;34m,\u001b[0m \u001b[0;34m'test_tree_sur.png'\u001b[0m\u001b[0;34m)\u001b[0m\u001b[0;34m\u001b[0m\u001b[0;34m\u001b[0m\u001b[0m\n",
      "\u001b[0;32m<ipython-input-32-c1fc9b865ee7>\u001b[0m in \u001b[0;36mfit_skater\u001b[0;34m(self, data)\u001b[0m\n\u001b[1;32m     72\u001b[0m \u001b[0;34m\u001b[0m\u001b[0m\n\u001b[1;32m     73\u001b[0m         \u001b[0;32mif\u001b[0m \u001b[0mself\u001b[0m\u001b[0;34m.\u001b[0m\u001b[0m__objective\u001b[0m \u001b[0;34m==\u001b[0m \u001b[0;34m'classification'\u001b[0m\u001b[0;34m:\u001b[0m\u001b[0;34m\u001b[0m\u001b[0;34m\u001b[0m\u001b[0m\n\u001b[0;32m---> 74\u001b[0;31m             \u001b[0mself\u001b[0m\u001b[0;34m.\u001b[0m\u001b[0m__annotated_model\u001b[0m \u001b[0;34m=\u001b[0m \u001b[0mInMemoryModel\u001b[0m\u001b[0;34m(\u001b[0m\u001b[0mself\u001b[0m\u001b[0;34m.\u001b[0m\u001b[0m__model\u001b[0m\u001b[0;34m.\u001b[0m\u001b[0mpredict_proba\u001b[0m\u001b[0;34m,\u001b[0m \u001b[0mexamples\u001b[0m\u001b[0;34m=\u001b[0m\u001b[0mdata\u001b[0m\u001b[0;34m)\u001b[0m\u001b[0;34m\u001b[0m\u001b[0;34m\u001b[0m\u001b[0m\n\u001b[0m\u001b[1;32m     75\u001b[0m         \u001b[0;32melif\u001b[0m \u001b[0mself\u001b[0m\u001b[0;34m.\u001b[0m\u001b[0m__objective\u001b[0m \u001b[0;34m==\u001b[0m \u001b[0;34m'regression'\u001b[0m\u001b[0;34m:\u001b[0m\u001b[0;34m\u001b[0m\u001b[0;34m\u001b[0m\u001b[0m\n\u001b[1;32m     76\u001b[0m             \u001b[0mself\u001b[0m\u001b[0;34m.\u001b[0m\u001b[0m__annotated_model\u001b[0m \u001b[0;34m=\u001b[0m \u001b[0mInMemoryModel\u001b[0m\u001b[0;34m(\u001b[0m\u001b[0mself\u001b[0m\u001b[0;34m.\u001b[0m\u001b[0m__model\u001b[0m\u001b[0;34m.\u001b[0m\u001b[0mpredict\u001b[0m\u001b[0;34m,\u001b[0m \u001b[0mexamples\u001b[0m\u001b[0;34m=\u001b[0m\u001b[0mdata\u001b[0m\u001b[0;34m)\u001b[0m\u001b[0;34m\u001b[0m\u001b[0;34m\u001b[0m\u001b[0m\n",
      "\u001b[0;32m~/anaconda/lib/python3.6/site-packages/skater-1.1.2-py3.6.egg/skater/model/local_model.py\u001b[0m in \u001b[0;36m__init__\u001b[0;34m(self, prediction_fn, input_formatter, output_formatter, target_names, feature_names, unique_values, examples, model_type, probability, log_level)\u001b[0m\n\u001b[1;32m     84\u001b[0m                                             \u001b[0mfeature_names\u001b[0m\u001b[0;34m=\u001b[0m\u001b[0mfeature_names\u001b[0m\u001b[0;34m,\u001b[0m\u001b[0;34m\u001b[0m\u001b[0;34m\u001b[0m\u001b[0m\n\u001b[1;32m     85\u001b[0m                                             \u001b[0mmodel_type\u001b[0m\u001b[0;34m=\u001b[0m\u001b[0mmodel_type\u001b[0m\u001b[0;34m,\u001b[0m\u001b[0;34m\u001b[0m\u001b[0;34m\u001b[0m\u001b[0m\n\u001b[0;32m---> 86\u001b[0;31m                                             \u001b[0mprobability\u001b[0m\u001b[0;34m=\u001b[0m\u001b[0mprobability\u001b[0m\u001b[0;34m,\u001b[0m\u001b[0;34m\u001b[0m\u001b[0;34m\u001b[0m\u001b[0m\n\u001b[0m\u001b[1;32m     87\u001b[0m                                             )\n\u001b[1;32m     88\u001b[0m \u001b[0;34m\u001b[0m\u001b[0m\n",
      "\u001b[0;32m~/anaconda/lib/python3.6/site-packages/skater-1.1.2-py3.6.egg/skater/model/base.py\u001b[0m in \u001b[0;36m__init__\u001b[0;34m(self, log_level, target_names, examples, feature_names, unique_values, input_formatter, output_formatter, model_type, probability)\u001b[0m\n\u001b[1;32m     97\u001b[0m             \u001b[0mself\u001b[0m\u001b[0;34m.\u001b[0m\u001b[0minput_type\u001b[0m \u001b[0;34m=\u001b[0m \u001b[0mtype\u001b[0m\u001b[0;34m(\u001b[0m\u001b[0mexamples\u001b[0m\u001b[0;34m)\u001b[0m\u001b[0;34m\u001b[0m\u001b[0;34m\u001b[0m\u001b[0m\n\u001b[1;32m     98\u001b[0m             \u001b[0mexamples\u001b[0m \u001b[0;34m=\u001b[0m \u001b[0mDataManager\u001b[0m\u001b[0;34m(\u001b[0m\u001b[0mexamples\u001b[0m\u001b[0;34m,\u001b[0m \u001b[0mfeature_names\u001b[0m\u001b[0;34m=\u001b[0m\u001b[0mfeature_names\u001b[0m\u001b[0;34m)\u001b[0m\u001b[0;34m\u001b[0m\u001b[0;34m\u001b[0m\u001b[0m\n\u001b[0;32m---> 99\u001b[0;31m             \u001b[0mself\u001b[0m\u001b[0;34m.\u001b[0m\u001b[0m_build_model_metadata\u001b[0m\u001b[0;34m(\u001b[0m\u001b[0mexamples\u001b[0m\u001b[0;34m)\u001b[0m\u001b[0;34m\u001b[0m\u001b[0;34m\u001b[0m\u001b[0m\n\u001b[0m\u001b[1;32m    100\u001b[0m         \u001b[0;32melse\u001b[0m\u001b[0;34m:\u001b[0m\u001b[0;34m\u001b[0m\u001b[0;34m\u001b[0m\u001b[0m\n\u001b[1;32m    101\u001b[0m             \u001b[0mself\u001b[0m\u001b[0;34m.\u001b[0m\u001b[0minput_type\u001b[0m \u001b[0;34m=\u001b[0m \u001b[0;32mNone\u001b[0m\u001b[0;34m\u001b[0m\u001b[0;34m\u001b[0m\u001b[0m\n",
      "\u001b[0;32m~/anaconda/lib/python3.6/site-packages/skater-1.1.2-py3.6.egg/skater/model/base.py\u001b[0m in \u001b[0;36m_build_model_metadata\u001b[0;34m(self, dataset)\u001b[0m\n\u001b[1;32m    222\u001b[0m \u001b[0;34m\u001b[0m\u001b[0m\n\u001b[1;32m    223\u001b[0m         \u001b[0;32mif\u001b[0m \u001b[0mself\u001b[0m\u001b[0;34m.\u001b[0m\u001b[0minput_type\u001b[0m \u001b[0;32min\u001b[0m \u001b[0;34m(\u001b[0m\u001b[0mpd\u001b[0m\u001b[0;34m.\u001b[0m\u001b[0mDataFrame\u001b[0m\u001b[0;34m,\u001b[0m \u001b[0;32mNone\u001b[0m\u001b[0;34m)\u001b[0m\u001b[0;34m:\u001b[0m\u001b[0;34m\u001b[0m\u001b[0;34m\u001b[0m\u001b[0m\n\u001b[0;32m--> 224\u001b[0;31m             \u001b[0moutputs\u001b[0m \u001b[0;34m=\u001b[0m \u001b[0mself\u001b[0m\u001b[0;34m.\u001b[0m\u001b[0mpredict\u001b[0m\u001b[0;34m(\u001b[0m\u001b[0mdataset\u001b[0m\u001b[0;34m.\u001b[0m\u001b[0mX\u001b[0m\u001b[0;34m)\u001b[0m\u001b[0;34m\u001b[0m\u001b[0;34m\u001b[0m\u001b[0m\n\u001b[0m\u001b[1;32m    225\u001b[0m         \u001b[0;32melif\u001b[0m \u001b[0mself\u001b[0m\u001b[0;34m.\u001b[0m\u001b[0minput_type\u001b[0m \u001b[0;34m==\u001b[0m \u001b[0mnp\u001b[0m\u001b[0;34m.\u001b[0m\u001b[0mndarray\u001b[0m\u001b[0;34m:\u001b[0m\u001b[0;34m\u001b[0m\u001b[0;34m\u001b[0m\u001b[0m\n\u001b[1;32m    226\u001b[0m             \u001b[0moutputs\u001b[0m \u001b[0;34m=\u001b[0m \u001b[0mself\u001b[0m\u001b[0;34m.\u001b[0m\u001b[0mpredict\u001b[0m\u001b[0;34m(\u001b[0m\u001b[0mdataset\u001b[0m\u001b[0;34m.\u001b[0m\u001b[0mX\u001b[0m\u001b[0;34m)\u001b[0m\u001b[0;34m\u001b[0m\u001b[0;34m\u001b[0m\u001b[0m\n",
      "\u001b[0;32m~/anaconda/lib/python3.6/site-packages/skater-1.1.2-py3.6.egg/skater/model/base.py\u001b[0m in \u001b[0;36mpredict\u001b[0;34m(self, *args, **kwargs)\u001b[0m\n\u001b[1;32m    125\u001b[0m             \u001b[0mexamples\u001b[0m \u001b[0;34m=\u001b[0m \u001b[0mDataManager\u001b[0m\u001b[0;34m(\u001b[0m\u001b[0;34m*\u001b[0m\u001b[0margs\u001b[0m\u001b[0;34m)\u001b[0m\u001b[0;34m\u001b[0m\u001b[0;34m\u001b[0m\u001b[0m\n\u001b[1;32m    126\u001b[0m             \u001b[0mself\u001b[0m\u001b[0;34m.\u001b[0m\u001b[0m_build_model_metadata\u001b[0m\u001b[0;34m(\u001b[0m\u001b[0mexamples\u001b[0m\u001b[0;34m)\u001b[0m\u001b[0;34m\u001b[0m\u001b[0;34m\u001b[0m\u001b[0m\n\u001b[0;32m--> 127\u001b[0;31m         \u001b[0;32mreturn\u001b[0m \u001b[0mself\u001b[0m\u001b[0;34m.\u001b[0m\u001b[0mtransformer\u001b[0m\u001b[0;34m(\u001b[0m\u001b[0mself\u001b[0m\u001b[0;34m.\u001b[0m\u001b[0moutput_formatter\u001b[0m\u001b[0;34m(\u001b[0m\u001b[0mself\u001b[0m\u001b[0;34m.\u001b[0m\u001b[0m_execute\u001b[0m\u001b[0;34m(\u001b[0m\u001b[0mself\u001b[0m\u001b[0;34m.\u001b[0m\u001b[0minput_formatter\u001b[0m\u001b[0;34m(\u001b[0m\u001b[0;34m*\u001b[0m\u001b[0margs\u001b[0m\u001b[0;34m,\u001b[0m \u001b[0;34m**\u001b[0m\u001b[0mkwargs\u001b[0m\u001b[0;34m)\u001b[0m\u001b[0;34m)\u001b[0m\u001b[0;34m)\u001b[0m\u001b[0;34m)\u001b[0m\u001b[0;34m\u001b[0m\u001b[0;34m\u001b[0m\u001b[0m\n\u001b[0m\u001b[1;32m    128\u001b[0m \u001b[0;34m\u001b[0m\u001b[0m\n\u001b[1;32m    129\u001b[0m \u001b[0;34m\u001b[0m\u001b[0m\n",
      "\u001b[0;32m~/anaconda/lib/python3.6/site-packages/skater-1.1.2-py3.6.egg/skater/model/local_model.py\u001b[0m in \u001b[0;36m_execute\u001b[0;34m(self, *args, **kwargs)\u001b[0m\n\u001b[1;32m     92\u001b[0m         \u001b[0mJust\u001b[0m \u001b[0muse\u001b[0m \u001b[0mthe\u001b[0m \u001b[0mfunction\u001b[0m \u001b[0mitself\u001b[0m \u001b[0;32mfor\u001b[0m \u001b[0mpredictions\u001b[0m\u001b[0;34m\u001b[0m\u001b[0;34m\u001b[0m\u001b[0m\n\u001b[1;32m     93\u001b[0m         \"\"\"\n\u001b[0;32m---> 94\u001b[0;31m         \u001b[0;32mreturn\u001b[0m \u001b[0mself\u001b[0m\u001b[0;34m.\u001b[0m\u001b[0mprediction_fn\u001b[0m\u001b[0;34m(\u001b[0m\u001b[0;34m*\u001b[0m\u001b[0margs\u001b[0m\u001b[0;34m,\u001b[0m \u001b[0;34m**\u001b[0m\u001b[0mkwargs\u001b[0m\u001b[0;34m)\u001b[0m\u001b[0;34m\u001b[0m\u001b[0;34m\u001b[0m\u001b[0m\n\u001b[0m\u001b[1;32m     95\u001b[0m \u001b[0;34m\u001b[0m\u001b[0m\n\u001b[1;32m     96\u001b[0m \u001b[0;34m\u001b[0m\u001b[0m\n",
      "\u001b[0;32m~/anaconda/lib/python3.6/site-packages/xgboost/sklearn.py\u001b[0m in \u001b[0;36mpredict_proba\u001b[0;34m(self, data, ntree_limit, validate_features)\u001b[0m\n\u001b[1;32m    832\u001b[0m         class_probs = self.get_booster().predict(test_dmatrix,\n\u001b[1;32m    833\u001b[0m                                                  \u001b[0mntree_limit\u001b[0m\u001b[0;34m=\u001b[0m\u001b[0mntree_limit\u001b[0m\u001b[0;34m,\u001b[0m\u001b[0;34m\u001b[0m\u001b[0;34m\u001b[0m\u001b[0m\n\u001b[0;32m--> 834\u001b[0;31m                                                  validate_features=validate_features)\n\u001b[0m\u001b[1;32m    835\u001b[0m         \u001b[0;32mif\u001b[0m \u001b[0mself\u001b[0m\u001b[0;34m.\u001b[0m\u001b[0mobjective\u001b[0m \u001b[0;34m==\u001b[0m \u001b[0;34m\"multi:softprob\"\u001b[0m\u001b[0;34m:\u001b[0m\u001b[0;34m\u001b[0m\u001b[0;34m\u001b[0m\u001b[0m\n\u001b[1;32m    836\u001b[0m             \u001b[0;32mreturn\u001b[0m \u001b[0mclass_probs\u001b[0m\u001b[0;34m\u001b[0m\u001b[0;34m\u001b[0m\u001b[0m\n",
      "\u001b[0;32m~/anaconda/lib/python3.6/site-packages/xgboost/core.py\u001b[0m in \u001b[0;36mpredict\u001b[0;34m(self, data, output_margin, ntree_limit, pred_leaf, pred_contribs, approx_contribs, pred_interactions, validate_features)\u001b[0m\n\u001b[1;32m   1290\u001b[0m                                           \u001b[0mctypes\u001b[0m\u001b[0;34m.\u001b[0m\u001b[0mc_uint\u001b[0m\u001b[0;34m(\u001b[0m\u001b[0mntree_limit\u001b[0m\u001b[0;34m)\u001b[0m\u001b[0;34m,\u001b[0m\u001b[0;34m\u001b[0m\u001b[0;34m\u001b[0m\u001b[0m\n\u001b[1;32m   1291\u001b[0m                                           \u001b[0mctypes\u001b[0m\u001b[0;34m.\u001b[0m\u001b[0mbyref\u001b[0m\u001b[0;34m(\u001b[0m\u001b[0mlength\u001b[0m\u001b[0;34m)\u001b[0m\u001b[0;34m,\u001b[0m\u001b[0;34m\u001b[0m\u001b[0;34m\u001b[0m\u001b[0m\n\u001b[0;32m-> 1292\u001b[0;31m                                           ctypes.byref(preds)))\n\u001b[0m\u001b[1;32m   1293\u001b[0m         \u001b[0mpreds\u001b[0m \u001b[0;34m=\u001b[0m \u001b[0mctypes2numpy\u001b[0m\u001b[0;34m(\u001b[0m\u001b[0mpreds\u001b[0m\u001b[0;34m,\u001b[0m \u001b[0mlength\u001b[0m\u001b[0;34m.\u001b[0m\u001b[0mvalue\u001b[0m\u001b[0;34m,\u001b[0m \u001b[0mnp\u001b[0m\u001b[0;34m.\u001b[0m\u001b[0mfloat32\u001b[0m\u001b[0;34m)\u001b[0m\u001b[0;34m\u001b[0m\u001b[0;34m\u001b[0m\u001b[0m\n\u001b[1;32m   1294\u001b[0m         \u001b[0;32mif\u001b[0m \u001b[0mpred_leaf\u001b[0m\u001b[0;34m:\u001b[0m\u001b[0;34m\u001b[0m\u001b[0;34m\u001b[0m\u001b[0m\n",
      "\u001b[0;31mKeyboardInterrupt\u001b[0m: "
     ]
    }
   ],
   "source": [
    "interp = BaseInterpretator(xgb_model)\n",
    "interp.fit_skater(X_train)\n",
    "interp.get_decision_rules(X_train, y_train, 'test_tree_sur.png')"
   ]
  },
  {
   "cell_type": "code",
   "execution_count": null,
   "id": "sought-duncan",
   "metadata": {},
   "outputs": [],
   "source": []
  },
  {
   "cell_type": "code",
   "execution_count": 45,
   "id": "overall-disease",
   "metadata": {},
   "outputs": [],
   "source": [
    "interpreter = Interpretation(training_data=X_train, training_labels=y_train, feature_names=X_train.columns)\n",
    "im_model = InMemoryModel(xgb_model.predict_proba, examples=X_train)"
   ]
  },
  {
   "cell_type": "code",
   "execution_count": 46,
   "id": "useful-camera",
   "metadata": {},
   "outputs": [
    {
     "name": "stderr",
     "output_type": "stream",
     "text": [
      "2021-05-11 23:50:33,670 - skater.core.global_interpretation.tree_surrogate - INFO - pre pruning applied ...\n",
      "2021-05-11 23:50:33,671 - skater.core.global_interpretation.tree_surrogate - INFO - Scorer used f1-score\n",
      "2021-05-11 23:54:43,358 - skater.core.global_interpretation.tree_surrogate - INFO - Done generating prediction using the surrogate, shape (307511, 2)\n",
      "2021-05-11 23:54:43,472 - skater.core.global_interpretation.tree_surrogate - INFO - Done scoring, surrogate score 0.931; oracle score 0.883\n"
     ]
    },
    {
     "name": "stdout",
     "output_type": "stream",
     "text": [
      "F1 score for the surrogate tree:  -0.048\n"
     ]
    }
   ],
   "source": [
    "surrogate_explainer = interpreter.tree_surrogate(oracle=im_model, seed=33)\n",
    "f1 = surrogate_explainer.fit(X_train, y_train, use_oracle=True, prune='pre', scorer_type='f1')\n",
    "print('F1 score for the surrogate tree: ', f1)"
   ]
  },
  {
   "cell_type": "code",
   "execution_count": 49,
   "id": "actual-motivation",
   "metadata": {},
   "outputs": [
    {
     "name": "stdout",
     "output_type": "stream",
     "text": [
      "11\n"
     ]
    }
   ],
   "source": [
    "class A:\n",
    "    def __init__(self):\n",
    "        self.num = 11\n",
    "        pass\n",
    "\n",
    "a = A()\n",
    "\n",
    "def my_num(self):\n",
    "    print(self.num)\n",
    "    \n",
    "a.my_method = types.MethodType( my_num, a )\n",
    "a.my_method()"
   ]
  },
  {
   "cell_type": "code",
   "execution_count": 48,
   "id": "accomplished-quick",
   "metadata": {},
   "outputs": [
    {
     "ename": "AttributeError",
     "evalue": "'TreeSurrogate' object has no attribute '__model'",
     "output_type": "error",
     "traceback": [
      "\u001b[0;31m---------------------------------------------------------------------------\u001b[0m",
      "\u001b[0;31mAttributeError\u001b[0m                            Traceback (most recent call last)",
      "\u001b[0;32m<ipython-input-48-aeeb319266c8>\u001b[0m in \u001b[0;36m<module>\u001b[0;34m\u001b[0m\n\u001b[1;32m     31\u001b[0m \u001b[0;34m\u001b[0m\u001b[0m\n\u001b[1;32m     32\u001b[0m \u001b[0msurrogate_explainer\u001b[0m\u001b[0;34m.\u001b[0m\u001b[0mplot_tree\u001b[0m \u001b[0;34m=\u001b[0m \u001b[0mtypes\u001b[0m\u001b[0;34m.\u001b[0m\u001b[0mMethodType\u001b[0m\u001b[0;34m(\u001b[0m\u001b[0mplot_tree_upgrade\u001b[0m\u001b[0;34m,\u001b[0m \u001b[0msurrogate_explainer\u001b[0m\u001b[0;34m)\u001b[0m\u001b[0;34m\u001b[0m\u001b[0;34m\u001b[0m\u001b[0m\n\u001b[0;32m---> 33\u001b[0;31m \u001b[0msurrogate_explainer\u001b[0m\u001b[0;34m.\u001b[0m\u001b[0mplot_tree\u001b[0m\u001b[0;34m(\u001b[0m\u001b[0mX_train\u001b[0m\u001b[0;34m.\u001b[0m\u001b[0mcolumns\u001b[0m\u001b[0;34m,\u001b[0m \u001b[0mfile_name\u001b[0m\u001b[0;34m=\u001b[0m\u001b[0;34m'test_tree_sur.png'\u001b[0m\u001b[0;34m)\u001b[0m\u001b[0;34m\u001b[0m\u001b[0;34m\u001b[0m\u001b[0m\n\u001b[0m\u001b[1;32m     34\u001b[0m \u001b[0;34m\u001b[0m\u001b[0m\n\u001b[1;32m     35\u001b[0m \u001b[0mshow_in_notebook\u001b[0m\u001b[0;34m(\u001b[0m\u001b[0;34m'test_tree_sur.png'\u001b[0m\u001b[0;34m,\u001b[0m \u001b[0mwidth\u001b[0m\u001b[0;34m=\u001b[0m\u001b[0;36m1200\u001b[0m\u001b[0;34m,\u001b[0m \u001b[0mheight\u001b[0m\u001b[0;34m=\u001b[0m\u001b[0;36m800\u001b[0m\u001b[0;34m)\u001b[0m\u001b[0;34m;\u001b[0m\u001b[0;34m\u001b[0m\u001b[0;34m\u001b[0m\u001b[0m\n",
      "\u001b[0;32m<ipython-input-48-aeeb319266c8>\u001b[0m in \u001b[0;36mplot_tree_upgrade\u001b[0;34m(self, features_names, file_name, colors, enable_node_id, random_state, show_img, fig_size)\u001b[0m\n\u001b[1;32m      5\u001b[0m             \"\"\"\n\u001b[1;32m      6\u001b[0m             \u001b[0mself\u001b[0m\u001b[0;34m.\u001b[0m\u001b[0mfeature_names\u001b[0m \u001b[0;34m=\u001b[0m \u001b[0mfeatures_names\u001b[0m\u001b[0;34m\u001b[0m\u001b[0;34m\u001b[0m\u001b[0m\n\u001b[0;32m----> 7\u001b[0;31m             graph_inst = plot_tree(self.__model, self.__mfodel_type, feature_names=self.feature_names, color_list=colors,\n\u001b[0m\u001b[1;32m      8\u001b[0m                                        class_names=self.class_names, enable_node_id=enable_node_id, seed=random_state)\n\u001b[1;32m      9\u001b[0m             \u001b[0mf_name\u001b[0m \u001b[0;34m=\u001b[0m \u001b[0;34m\"interpretable_tree.png\"\u001b[0m \u001b[0;32mif\u001b[0m \u001b[0mfile_name\u001b[0m \u001b[0;32mis\u001b[0m \u001b[0;32mNone\u001b[0m \u001b[0;32melse\u001b[0m \u001b[0mfile_name\u001b[0m\u001b[0;34m\u001b[0m\u001b[0;34m\u001b[0m\u001b[0m\n",
      "\u001b[0;31mAttributeError\u001b[0m: 'TreeSurrogate' object has no attribute '__model'"
     ]
    }
   ],
   "source": [
    "def plot_tree_upgrade(self, features_names, file_name='', colors=None, \n",
    "                                         enable_node_id=True, random_state=0, \n",
    "                                          show_img=False, fig_size=(20, 8)):\n",
    "            \"\"\" Visualizes the decision policies of the surrogate tree.\n",
    "            \"\"\"\n",
    "            self.feature_names = features_names\n",
    "            graph_inst = plot_tree(self.__model, self.__mfodel_type, feature_names=self.feature_names, color_list=colors,\n",
    "                                       class_names=self.class_names, enable_node_id=enable_node_id, seed=random_state)\n",
    "            f_name = \"interpretable_tree.png\" if file_name is None else file_name\n",
    "            graph_inst.write_png(f_name)\n",
    "\n",
    "            try:\n",
    "                import matplotlib\n",
    "                matplotlib.use('agg')\n",
    "                import matplotlib.pyplot as plt\n",
    "            except ImportError:\n",
    "                raise exceptions.MatplotlibUnavailableError(\"Matplotlib is required but unavailable on the system.\")\n",
    "            except RuntimeError:\n",
    "                raise exceptions.MatplotlibDisplayError(\"Matplotlib unable to open display\")\n",
    "\n",
    "            if show_img:\n",
    "                plt.rcParams[\"figure.figsize\"] = fig_size\n",
    "                img = plt.imread(f_name)\n",
    "                if self.__model_type == 'regressor':\n",
    "                    cax = plt.imshow(img, cmap=plt.cm.get_cmap(graph_inst.get_colorscheme()))\n",
    "                    plt.colorbar(cax)\n",
    "                else:\n",
    "                    plt.imshow(img)\n",
    "            return graph_inst\n",
    "        \n",
    "        \n",
    "surrogate_explainer.plot_tree = types.MethodType(plot_tree_upgrade, surrogate_explainer)\n",
    "surrogate_explainer.plot_tree(X_train.columns, file_name='test_tree_sur.png')\n",
    "        \n",
    "show_in_notebook('test_tree_sur.png', width=1200, height=800);"
   ]
  },
  {
   "cell_type": "code",
   "execution_count": null,
   "id": "adjacent-nepal",
   "metadata": {},
   "outputs": [],
   "source": [
    "from skater.util.dataops import show_in_notebook\n",
    "\n",
    "# 'Low Quality' (score <= 5) class in pink and 'High Quality' class (score > 5) in red\n",
    "surrogate_explainer.plot_global_decisions(X_train.columns, colors=['green', 'red'], file_name='test_tree_sur.png', fig_size=(8,8))\n",
    "\n",
    "show_in_notebook('test_tree_sur.png', width=1200, height=800);"
   ]
  }
 ],
 "metadata": {
  "kernelspec": {
   "display_name": "Python 3",
   "language": "python",
   "name": "python3"
  },
  "language_info": {
   "codemirror_mode": {
    "name": "ipython",
    "version": 3
   },
   "file_extension": ".py",
   "mimetype": "text/x-python",
   "name": "python",
   "nbconvert_exporter": "python",
   "pygments_lexer": "ipython3",
   "version": "3.6.13"
  }
 },
 "nbformat": 4,
 "nbformat_minor": 5
}
