{
  "nbformat": 4,
  "nbformat_minor": 5,
  "metadata": {
    "kernelspec": {
      "display_name": "Python 3",
      "language": "python",
      "name": "python3"
    },
    "language_info": {
      "codemirror_mode": {
        "name": "ipython",
        "version": 3
      },
      "file_extension": ".py",
      "mimetype": "text/x-python",
      "name": "python",
      "nbconvert_exporter": "python",
      "pygments_lexer": "ipython3",
      "version": "3.7.10"
    },
    "papermill": {
      "default_parameters": {},
      "duration": 194.990261,
      "end_time": "2021-05-02T21:13:40.977530",
      "environment_variables": {},
      "exception": null,
      "input_path": "__notebook__.ipynb",
      "output_path": "__notebook__.ipynb",
      "parameters": {},
      "start_time": "2021-05-02T21:10:25.987269",
      "version": "2.3.3"
    },
    "colab": {
      "name": "Economic effect estimation.ipynb",
      "provenance": [],
      "collapsed_sections": [],
      "toc_visible": true,
      "include_colab_link": true
    }
  },
  "cells": [
    {
      "cell_type": "markdown",
      "metadata": {
        "id": "view-in-github",
        "colab_type": "text"
      },
      "source": [
        "<a href=\"https://colab.research.google.com/github/YanaSemenenya/INTERPRETATOR/blob/develop/Examples/Economic_effect_estimation_vs_riskpy.ipynb\" target=\"_parent\"><img src=\"https://colab.research.google.com/assets/colab-badge.svg\" alt=\"Open In Colab\"/></a>"
      ]
    },
    {
      "cell_type": "markdown",
      "metadata": {
        "_cell_guid": "b1076dfc-b9ad-4769-8c92-a6c4dae69d19",
        "_uuid": "8f2839f25d086af736a60e9eeb907d3b93b6e0e5",
        "papermill": {
          "duration": 0.026458,
          "end_time": "2021-05-02T21:10:34.569831",
          "exception": false,
          "start_time": "2021-05-02T21:10:34.543373",
          "status": "completed"
        },
        "tags": [],
        "id": "wireless-stupid"
      },
      "source": [
        "# Home Credit Default Risk Prediction\n",
        "**Xin Zhao**\n",
        "<br>\n",
        "This is a case study on Home Credit Default Risk Prediction using data from Home Credit Group and various machine learning algorithms. Techniques on feature selection and principal component analysis are also considered. In the end, XGBoost algorithm is selected. The prediction AUC score is 0.75. "
      ],
      "id": "wireless-stupid"
    },
    {
      "cell_type": "markdown",
      "metadata": {
        "id": "x8n4M_-ZoCe6"
      },
      "source": [
        "### Загрузка данных"
      ],
      "id": "x8n4M_-ZoCe6"
    },
    {
      "cell_type": "code",
      "metadata": {
        "colab": {
          "base_uri": "https://localhost:8080/"
        },
        "id": "_JzWmUcsoGRa",
        "outputId": "35487c72-d8cd-4865-c234-f353b6165b32"
      },
      "source": [
        "!pip install kaggle"
      ],
      "id": "_JzWmUcsoGRa",
      "execution_count": 1,
      "outputs": [
        {
          "output_type": "stream",
          "text": [
            "Requirement already satisfied: kaggle in /usr/local/lib/python3.7/dist-packages (1.5.12)\n",
            "Requirement already satisfied: tqdm in /usr/local/lib/python3.7/dist-packages (from kaggle) (4.41.1)\n",
            "Requirement already satisfied: urllib3 in /usr/local/lib/python3.7/dist-packages (from kaggle) (1.24.3)\n",
            "Requirement already satisfied: python-slugify in /usr/local/lib/python3.7/dist-packages (from kaggle) (5.0.2)\n",
            "Requirement already satisfied: requests in /usr/local/lib/python3.7/dist-packages (from kaggle) (2.23.0)\n",
            "Requirement already satisfied: python-dateutil in /usr/local/lib/python3.7/dist-packages (from kaggle) (2.8.1)\n",
            "Requirement already satisfied: certifi in /usr/local/lib/python3.7/dist-packages (from kaggle) (2020.12.5)\n",
            "Requirement already satisfied: six>=1.10 in /usr/local/lib/python3.7/dist-packages (from kaggle) (1.15.0)\n",
            "Requirement already satisfied: text-unidecode>=1.3 in /usr/local/lib/python3.7/dist-packages (from python-slugify->kaggle) (1.3)\n",
            "Requirement already satisfied: idna<3,>=2.5 in /usr/local/lib/python3.7/dist-packages (from requests->kaggle) (2.10)\n",
            "Requirement already satisfied: chardet<4,>=3.0.2 in /usr/local/lib/python3.7/dist-packages (from requests->kaggle) (3.0.4)\n"
          ],
          "name": "stdout"
        }
      ]
    },
    {
      "cell_type": "code",
      "metadata": {
        "colab": {
          "resources": {
            "http://localhost:8080/nbextensions/google.colab/files.js": {
              "data": "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",
              "ok": true,
              "headers": [
                [
                  "content-type",
                  "application/javascript"
                ]
              ],
              "status": 200,
              "status_text": ""
            }
          },
          "base_uri": "https://localhost:8080/",
          "height": 91
        },
        "id": "rNuoZsudol9h",
        "outputId": "a13634f5-0f8b-469a-c3ad-a3be65b27c32"
      },
      "source": [
        "from google.colab import files\n",
        "files.upload()"
      ],
      "id": "rNuoZsudol9h",
      "execution_count": 2,
      "outputs": [
        {
          "output_type": "display_data",
          "data": {
            "text/html": [
              "\n",
              "     <input type=\"file\" id=\"files-e9f76c71-c95e-47ca-908b-162bd365f4f4\" name=\"files[]\" multiple disabled\n",
              "        style=\"border:none\" />\n",
              "     <output id=\"result-e9f76c71-c95e-47ca-908b-162bd365f4f4\">\n",
              "      Upload widget is only available when the cell has been executed in the\n",
              "      current browser session. Please rerun this cell to enable.\n",
              "      </output>\n",
              "      <script src=\"/nbextensions/google.colab/files.js\"></script> "
            ],
            "text/plain": [
              "<IPython.core.display.HTML object>"
            ]
          },
          "metadata": {
            "tags": []
          }
        },
        {
          "output_type": "stream",
          "text": [
            "Saving kaggle.json to kaggle.json\n"
          ],
          "name": "stdout"
        },
        {
          "output_type": "execute_result",
          "data": {
            "text/plain": [
              "{'kaggle.json': b'{\"username\":\"falconwatch\",\"key\":\"852b6d7f11534bcc686e2d63c56e894e\"}'}"
            ]
          },
          "metadata": {
            "tags": []
          },
          "execution_count": 2
        }
      ]
    },
    {
      "cell_type": "code",
      "metadata": {
        "colab": {
          "base_uri": "https://localhost:8080/"
        },
        "id": "aE5zGftvonl0",
        "outputId": "890719cf-afa7-4313-9777-390fb6238d99"
      },
      "source": [
        "! mkdir ~/.kaggle\n",
        "! cp kaggle.json ~/.kaggle/\n",
        "! chmod 600 ~/.kaggle/kaggle.json\n",
        "! kaggle competitions download -c 'home-credit-default-risk'"
      ],
      "id": "aE5zGftvonl0",
      "execution_count": 3,
      "outputs": [
        {
          "output_type": "stream",
          "text": [
            "Warning: Looks like you're using an outdated API Version, please consider updating (server 1.5.12 / client 1.5.4)\n",
            "Downloading previous_application.csv.zip to /content\n",
            " 96% 73.0M/76.3M [00:02<00:00, 25.7MB/s]\n",
            "100% 76.3M/76.3M [00:02<00:00, 36.8MB/s]\n",
            "Downloading credit_card_balance.csv.zip to /content\n",
            " 90% 87.0M/96.7M [00:02<00:00, 44.9MB/s]\n",
            "100% 96.7M/96.7M [00:02<00:00, 40.9MB/s]\n",
            "Downloading bureau_balance.csv.zip to /content\n",
            " 88% 50.0M/56.8M [00:01<00:00, 32.3MB/s]\n",
            "100% 56.8M/56.8M [00:01<00:00, 48.8MB/s]\n",
            "Downloading application_test.csv.zip to /content\n",
            " 86% 5.00M/5.81M [00:00<00:00, 26.1MB/s]\n",
            "100% 5.81M/5.81M [00:00<00:00, 28.4MB/s]\n",
            "Downloading bureau.csv.zip to /content\n",
            " 76% 28.0M/36.8M [00:00<00:00, 27.4MB/s]\n",
            "100% 36.8M/36.8M [00:00<00:00, 57.9MB/s]\n",
            "Downloading sample_submission.csv to /content\n",
            "  0% 0.00/524k [00:00<?, ?B/s]\n",
            "100% 524k/524k [00:00<00:00, 59.2MB/s]\n",
            "Downloading installments_payments.csv.zip to /content\n",
            " 97% 264M/271M [00:05<00:00, 43.7MB/s]\n",
            "100% 271M/271M [00:05<00:00, 49.8MB/s]\n",
            "Downloading application_train.csv.zip to /content\n",
            " 91% 33.0M/36.1M [00:00<00:00, 32.9MB/s]\n",
            "100% 36.1M/36.1M [00:00<00:00, 49.2MB/s]\n",
            "Downloading HomeCredit_columns_description.csv to /content\n",
            "  0% 0.00/36.5k [00:00<?, ?B/s]\n",
            "100% 36.5k/36.5k [00:00<00:00, 37.8MB/s]\n",
            "Downloading POS_CASH_balance.csv.zip to /content\n",
            " 95% 103M/109M [00:03<00:00, 36.5MB/s] \n",
            "100% 109M/109M [00:04<00:00, 24.0MB/s]\n"
          ],
          "name": "stdout"
        }
      ]
    },
    {
      "cell_type": "code",
      "metadata": {
        "colab": {
          "base_uri": "https://localhost:8080/"
        },
        "id": "fcK2YRiapVoL",
        "outputId": "6d9f34b9-ab4d-487b-ee80-a9e1f081f117"
      },
      "source": [
        "! unzip application_train.csv.zip application_train.csv\n",
        "! unzip application_test.csv.zip application_test.csv\n",
        "! unzip bureau.csv.zip bureau.csv"
      ],
      "id": "fcK2YRiapVoL",
      "execution_count": 4,
      "outputs": [
        {
          "output_type": "stream",
          "text": [
            "Archive:  application_train.csv.zip\n",
            "  inflating: application_train.csv   \n",
            "Archive:  application_test.csv.zip\n",
            "  inflating: application_test.csv    \n",
            "Archive:  bureau.csv.zip\n",
            "  inflating: bureau.csv              \n"
          ],
          "name": "stdout"
        }
      ]
    },
    {
      "cell_type": "markdown",
      "metadata": {
        "id": "JKp1RzhMooRC"
      },
      "source": [
        "### Импортируем библиотеки"
      ],
      "id": "JKp1RzhMooRC"
    },
    {
      "cell_type": "code",
      "metadata": {
        "execution": {
          "iopub.execute_input": "2021-05-02T21:10:34.635363Z",
          "iopub.status.busy": "2021-05-02T21:10:34.634551Z",
          "iopub.status.idle": "2021-05-02T21:10:36.019714Z",
          "shell.execute_reply": "2021-05-02T21:10:36.018516Z"
        },
        "papermill": {
          "duration": 1.424845,
          "end_time": "2021-05-02T21:10:36.019929",
          "exception": false,
          "start_time": "2021-05-02T21:10:34.595084",
          "status": "completed"
        },
        "tags": [],
        "id": "gentle-birmingham"
      },
      "source": [
        "import numpy as np\n",
        "import pandas as pd\n",
        "#import matplotlib.pyplot as plt\n",
        "import matplotlib, matplotlib.pyplot as plt\n",
        "\n",
        "from sklearn.pipeline import Pipeline\n",
        "from sklearn.impute import SimpleImputer\n",
        "from sklearn.compose import ColumnTransformer\n",
        "from sklearn.preprocessing import OneHotEncoder\n",
        "from sklearn.preprocessing import LabelEncoder\n",
        "from sklearn.preprocessing import StandardScaler\n",
        "from sklearn.decomposition import PCA\n",
        "from sklearn.feature_selection import RFECV\n",
        "\n",
        "from sklearn.linear_model import LogisticRegression\n",
        "from sklearn.tree import DecisionTreeClassifier\n",
        "from sklearn.ensemble import RandomForestClassifier\n",
        "\n",
        "from sklearn.model_selection import cross_val_score, GridSearchCV\n",
        "\n",
        "from sklearn.metrics import confusion_matrix, classification_report, roc_auc_score\n",
        "import xgboost as xgb\n",
        "from tqdm import tqdm"
      ],
      "id": "gentle-birmingham",
      "execution_count": 95,
      "outputs": []
    },
    {
      "cell_type": "code",
      "metadata": {
        "id": "0pbuu1nrNwbw"
      },
      "source": [
        "from collections import defaultdict"
      ],
      "id": "0pbuu1nrNwbw",
      "execution_count": 6,
      "outputs": []
    },
    {
      "cell_type": "markdown",
      "metadata": {
        "papermill": {
          "duration": 0.025473,
          "end_time": "2021-05-02T21:10:36.072143",
          "exception": false,
          "start_time": "2021-05-02T21:10:36.046670",
          "status": "completed"
        },
        "tags": [],
        "id": "lovely-quality"
      },
      "source": [
        "# Explore and process bureau data"
      ],
      "id": "lovely-quality"
    },
    {
      "cell_type": "code",
      "metadata": {
        "execution": {
          "iopub.execute_input": "2021-05-02T21:10:36.128282Z",
          "iopub.status.busy": "2021-05-02T21:10:36.127599Z",
          "iopub.status.idle": "2021-05-02T21:10:41.259822Z",
          "shell.execute_reply": "2021-05-02T21:10:41.258460Z"
        },
        "papermill": {
          "duration": 5.162304,
          "end_time": "2021-05-02T21:10:41.259987",
          "exception": false,
          "start_time": "2021-05-02T21:10:36.097683",
          "status": "completed"
        },
        "tags": [],
        "id": "guilty-winter"
      },
      "source": [
        "bureau = pd.read_csv('bureau.csv')"
      ],
      "id": "guilty-winter",
      "execution_count": 7,
      "outputs": []
    },
    {
      "cell_type": "markdown",
      "metadata": {
        "papermill": {
          "duration": 0.02539,
          "end_time": "2021-05-02T21:10:41.311031",
          "exception": false,
          "start_time": "2021-05-02T21:10:41.285641",
          "status": "completed"
        },
        "tags": [],
        "id": "specified-penetration"
      },
      "source": [
        "## Shape"
      ],
      "id": "specified-penetration"
    },
    {
      "cell_type": "code",
      "metadata": {
        "execution": {
          "iopub.execute_input": "2021-05-02T21:10:41.370935Z",
          "iopub.status.busy": "2021-05-02T21:10:41.370101Z",
          "iopub.status.idle": "2021-05-02T21:10:41.373934Z",
          "shell.execute_reply": "2021-05-02T21:10:41.374415Z"
        },
        "papermill": {
          "duration": 0.03755,
          "end_time": "2021-05-02T21:10:41.374574",
          "exception": false,
          "start_time": "2021-05-02T21:10:41.337024",
          "status": "completed"
        },
        "tags": [],
        "id": "registered-society",
        "colab": {
          "base_uri": "https://localhost:8080/"
        },
        "outputId": "38d6e30e-9603-4c7f-b6a4-335c03300d2b"
      },
      "source": [
        "bureau.shape"
      ],
      "id": "registered-society",
      "execution_count": 8,
      "outputs": [
        {
          "output_type": "execute_result",
          "data": {
            "text/plain": [
              "(1716428, 17)"
            ]
          },
          "metadata": {
            "tags": []
          },
          "execution_count": 8
        }
      ]
    },
    {
      "cell_type": "markdown",
      "metadata": {
        "papermill": {
          "duration": 0.02574,
          "end_time": "2021-05-02T21:10:41.426457",
          "exception": false,
          "start_time": "2021-05-02T21:10:41.400717",
          "status": "completed"
        },
        "tags": [],
        "id": "operating-haven"
      },
      "source": [
        "## Categorical features in bureau"
      ],
      "id": "operating-haven"
    },
    {
      "cell_type": "code",
      "metadata": {
        "execution": {
          "iopub.execute_input": "2021-05-02T21:10:41.495289Z",
          "iopub.status.busy": "2021-05-02T21:10:41.493419Z",
          "iopub.status.idle": "2021-05-02T21:10:41.539391Z",
          "shell.execute_reply": "2021-05-02T21:10:41.538831Z"
        },
        "papermill": {
          "duration": 0.087026,
          "end_time": "2021-05-02T21:10:41.539529",
          "exception": false,
          "start_time": "2021-05-02T21:10:41.452503",
          "status": "completed"
        },
        "tags": [],
        "id": "hairy-samuel",
        "colab": {
          "base_uri": "https://localhost:8080/"
        },
        "outputId": "3feb82b3-46eb-4542-e404-b4267e168694"
      },
      "source": [
        "cat_features = bureau.select_dtypes(include='object').columns.tolist()\n",
        "cat_features"
      ],
      "id": "hairy-samuel",
      "execution_count": 9,
      "outputs": [
        {
          "output_type": "execute_result",
          "data": {
            "text/plain": [
              "['CREDIT_ACTIVE', 'CREDIT_CURRENCY', 'CREDIT_TYPE']"
            ]
          },
          "metadata": {
            "tags": []
          },
          "execution_count": 9
        }
      ]
    },
    {
      "cell_type": "markdown",
      "metadata": {
        "papermill": {
          "duration": 0.02665,
          "end_time": "2021-05-02T21:10:41.756971",
          "exception": false,
          "start_time": "2021-05-02T21:10:41.730321",
          "status": "completed"
        },
        "tags": [],
        "id": "psychological-editor"
      },
      "source": [
        "\n",
        "## Label encode the categorical features"
      ],
      "id": "psychological-editor"
    },
    {
      "cell_type": "code",
      "metadata": {
        "id": "ze-UzK603c8B"
      },
      "source": [
        "bureau_transform = bureau.copy()"
      ],
      "id": "ze-UzK603c8B",
      "execution_count": 10,
      "outputs": []
    },
    {
      "cell_type": "code",
      "metadata": {
        "id": "wREBH7OXtjq-"
      },
      "source": [
        "encoded_features = defaultdict(dict)\n",
        "for col in cat_features:\n",
        "    label_encoder = LabelEncoder()\n",
        "    uniq_labels = bureau_transform[col].unique()\n",
        "    bureau_transform[col] = label_encoder.fit_transform(bureau_transform[col])\n",
        "    encoded_features[col] = dict(zip(uniq_labels,label_encoder.transform(uniq_labels)))"
      ],
      "id": "wREBH7OXtjq-",
      "execution_count": 11,
      "outputs": []
    },
    {
      "cell_type": "code",
      "metadata": {
        "colab": {
          "base_uri": "https://localhost:8080/"
        },
        "id": "7VkGHUyUPAHb",
        "outputId": "81fbf005-c509-403b-8eee-7d7efa09959a"
      },
      "source": [
        "encoded_features"
      ],
      "id": "7VkGHUyUPAHb",
      "execution_count": 12,
      "outputs": [
        {
          "output_type": "execute_result",
          "data": {
            "text/plain": [
              "defaultdict(dict,\n",
              "            {'CREDIT_ACTIVE': {'Active': 0,\n",
              "              'Bad debt': 1,\n",
              "              'Closed': 2,\n",
              "              'Sold': 3},\n",
              "             'CREDIT_CURRENCY': {'currency 1': 0,\n",
              "              'currency 2': 1,\n",
              "              'currency 3': 2,\n",
              "              'currency 4': 3},\n",
              "             'CREDIT_TYPE': {'Another type of loan': 0,\n",
              "              'Car loan': 1,\n",
              "              'Cash loan (non-earmarked)': 2,\n",
              "              'Consumer credit': 3,\n",
              "              'Credit card': 4,\n",
              "              'Interbank credit': 5,\n",
              "              'Loan for business development': 6,\n",
              "              'Loan for purchase of shares (margin lending)': 7,\n",
              "              'Loan for the purchase of equipment': 8,\n",
              "              'Loan for working capital replenishment': 9,\n",
              "              'Microloan': 10,\n",
              "              'Mobile operator loan': 11,\n",
              "              'Mortgage': 12,\n",
              "              'Real estate loan': 13,\n",
              "              'Unknown type of loan': 14}})"
            ]
          },
          "metadata": {
            "tags": []
          },
          "execution_count": 12
        }
      ]
    },
    {
      "cell_type": "code",
      "metadata": {
        "execution": {
          "iopub.execute_input": "2021-05-02T21:10:45.772296Z",
          "iopub.status.busy": "2021-05-02T21:10:45.770819Z",
          "iopub.status.idle": "2021-05-02T21:10:46.856368Z",
          "shell.execute_reply": "2021-05-02T21:10:46.856947Z"
        },
        "papermill": {
          "duration": 1.120978,
          "end_time": "2021-05-02T21:10:46.857148",
          "exception": false,
          "start_time": "2021-05-02T21:10:45.736170",
          "status": "completed"
        },
        "tags": [],
        "id": "personal-camping"
      },
      "source": [
        "#feature_encode = onehot_encoder.get_feature_names(cat_features)\n",
        "#bureau_cat_encode.columns = feature_encode\n",
        "#bureau_cat_encode"
      ],
      "id": "personal-camping",
      "execution_count": 13,
      "outputs": []
    },
    {
      "cell_type": "markdown",
      "metadata": {
        "papermill": {
          "duration": 0.030369,
          "end_time": "2021-05-02T21:10:46.918116",
          "exception": false,
          "start_time": "2021-05-02T21:10:46.887747",
          "status": "completed"
        },
        "tags": [],
        "id": "outdoor-cisco"
      },
      "source": [
        "## Extract numerical features and combine into the encoded categorical data"
      ],
      "id": "outdoor-cisco"
    },
    {
      "cell_type": "code",
      "metadata": {
        "execution": {
          "iopub.execute_input": "2021-05-02T21:10:47.048343Z",
          "iopub.status.busy": "2021-05-02T21:10:47.041990Z",
          "iopub.status.idle": "2021-05-02T21:10:47.701100Z",
          "shell.execute_reply": "2021-05-02T21:10:47.701784Z"
        },
        "papermill": {
          "duration": 0.754512,
          "end_time": "2021-05-02T21:10:47.702044",
          "exception": false,
          "start_time": "2021-05-02T21:10:46.947532",
          "status": "completed"
        },
        "tags": [],
        "id": "italian-iceland"
      },
      "source": [
        "#num_features = ['SK_ID_CURR', 'DAYS_CREDIT', 'CREDIT_DAY_OVERDUE', 'DAYS_CREDIT_ENDDATE', 'CNT_CREDIT_PROLONG', 'AMT_CREDIT_SUM', 'AMT_CREDIT_SUM_OVERDUE', 'DAYS_CREDIT_UPDATE', 'DAYS_CREDIT']\n",
        "#bureau_num = bureau[num_features] \n",
        "#bureau_proc = pd.concat([bureau_num, bureau_cat_encode], axis=1)\n",
        "#print(bureau_proc.shape)\n",
        "#print(bureau_num.shape)\n",
        "#print(bureau_cat_encode.shape)"
      ],
      "id": "italian-iceland",
      "execution_count": 14,
      "outputs": []
    },
    {
      "cell_type": "markdown",
      "metadata": {
        "papermill": {
          "duration": 0.029348,
          "end_time": "2021-05-02T21:10:47.761544",
          "exception": false,
          "start_time": "2021-05-02T21:10:47.732196",
          "status": "completed"
        },
        "tags": [],
        "id": "changed-resistance"
      },
      "source": [
        "## Group sum and mean bureau data by loan ID"
      ],
      "id": "changed-resistance"
    },
    {
      "cell_type": "code",
      "metadata": {
        "execution": {
          "iopub.execute_input": "2021-05-02T21:10:47.829752Z",
          "iopub.status.busy": "2021-05-02T21:10:47.828992Z",
          "iopub.status.idle": "2021-05-02T21:10:49.922993Z",
          "shell.execute_reply": "2021-05-02T21:10:49.922288Z"
        },
        "papermill": {
          "duration": 2.130813,
          "end_time": "2021-05-02T21:10:49.923136",
          "exception": false,
          "start_time": "2021-05-02T21:10:47.792323",
          "status": "completed"
        },
        "tags": [],
        "id": "medieval-feeling"
      },
      "source": [
        "bureau_proc_sum = bureau_transform.groupby(['SK_ID_CURR']).sum()\n",
        "bureau_proc_mean = bureau_transform.groupby(['SK_ID_CURR']).mean()"
      ],
      "id": "medieval-feeling",
      "execution_count": 15,
      "outputs": []
    },
    {
      "cell_type": "markdown",
      "metadata": {
        "id": "ocax0BvR8pCZ"
      },
      "source": [
        "### Rename columns"
      ],
      "id": "ocax0BvR8pCZ"
    },
    {
      "cell_type": "code",
      "metadata": {
        "id": "tJJndjkZ6rWg"
      },
      "source": [
        "new_collist_sum = []\n",
        "for col in bureau_proc_sum.columns:\n",
        "    if col == 'SK_ID_CURR':\n",
        "        continue\n",
        "    new_collist_sum.append(col + ' SUMBYID')\n",
        "colname_dict = dict(zip(bureau_proc_sum.columns, new_collist_sum))\n",
        "bureau_proc_sum = bureau_proc_sum.rename(columns=colname_dict)"
      ],
      "id": "tJJndjkZ6rWg",
      "execution_count": 16,
      "outputs": []
    },
    {
      "cell_type": "code",
      "metadata": {
        "id": "FzYv1OK48KKa"
      },
      "source": [
        "new_collist_mean = []\n",
        "for col in bureau_proc_mean.columns:\n",
        "    if col == 'SK_ID_CURR':\n",
        "        continue\n",
        "    new_collist_mean.append(col + ' MEANBYID')\n",
        "colname_dict_mean = dict(zip(bureau_proc_mean.columns, new_collist_mean))\n",
        "bureau_proc_mean = bureau_proc_mean.rename(columns=colname_dict_mean)"
      ],
      "id": "FzYv1OK48KKa",
      "execution_count": 17,
      "outputs": []
    },
    {
      "cell_type": "markdown",
      "metadata": {
        "id": "bBY_-H7A8ted"
      },
      "source": [
        "### MERGE mean and sum bureau data"
      ],
      "id": "bBY_-H7A8ted"
    },
    {
      "cell_type": "code",
      "metadata": {
        "execution": {
          "iopub.execute_input": "2021-05-02T21:10:49.988561Z",
          "iopub.status.busy": "2021-05-02T21:10:49.987868Z",
          "iopub.status.idle": "2021-05-02T21:10:50.441966Z",
          "shell.execute_reply": "2021-05-02T21:10:50.441337Z"
        },
        "papermill": {
          "duration": 0.489264,
          "end_time": "2021-05-02T21:10:50.442111",
          "exception": false,
          "start_time": "2021-05-02T21:10:49.952847",
          "status": "completed"
        },
        "tags": [],
        "id": "spatial-optimization"
      },
      "source": [
        "bureau_proc_final = pd.merge(bureau_proc_sum, bureau_proc_mean, how='left', on='SK_ID_CURR')"
      ],
      "id": "spatial-optimization",
      "execution_count": 18,
      "outputs": []
    },
    {
      "cell_type": "code",
      "metadata": {
        "execution": {
          "iopub.execute_input": "2021-05-02T21:10:50.506870Z",
          "iopub.status.busy": "2021-05-02T21:10:50.506168Z",
          "iopub.status.idle": "2021-05-02T21:11:06.848496Z",
          "shell.execute_reply": "2021-05-02T21:11:06.849420Z"
        },
        "papermill": {
          "duration": 16.377662,
          "end_time": "2021-05-02T21:11:06.849605",
          "exception": false,
          "start_time": "2021-05-02T21:10:50.471943",
          "status": "completed"
        },
        "tags": [],
        "id": "banned-relationship"
      },
      "source": [
        "bureau_proc_final.to_csv('bureau_proc_final.csv', index=True)"
      ],
      "id": "banned-relationship",
      "execution_count": 19,
      "outputs": []
    },
    {
      "cell_type": "code",
      "metadata": {
        "execution": {
          "iopub.execute_input": "2021-05-02T21:11:06.916300Z",
          "iopub.status.busy": "2021-05-02T21:11:06.915326Z",
          "iopub.status.idle": "2021-05-02T21:11:09.415292Z",
          "shell.execute_reply": "2021-05-02T21:11:09.414662Z"
        },
        "papermill": {
          "duration": 2.534721,
          "end_time": "2021-05-02T21:11:09.415433",
          "exception": false,
          "start_time": "2021-05-02T21:11:06.880712",
          "status": "completed"
        },
        "tags": [],
        "id": "distant-dictionary"
      },
      "source": [
        "bureau_proc_final = pd.read_csv('bureau_proc_final.csv')"
      ],
      "id": "distant-dictionary",
      "execution_count": 20,
      "outputs": []
    },
    {
      "cell_type": "markdown",
      "metadata": {
        "papermill": {
          "duration": 0.030782,
          "end_time": "2021-05-02T21:11:09.477999",
          "exception": false,
          "start_time": "2021-05-02T21:11:09.447217",
          "status": "completed"
        },
        "tags": [],
        "id": "optional-citizen"
      },
      "source": [
        "# Process application_train/test"
      ],
      "id": "optional-citizen"
    },
    {
      "cell_type": "code",
      "metadata": {
        "execution": {
          "iopub.execute_input": "2021-05-02T21:11:09.544782Z",
          "iopub.status.busy": "2021-05-02T21:11:09.544134Z",
          "iopub.status.idle": "2021-05-02T21:11:16.461939Z",
          "shell.execute_reply": "2021-05-02T21:11:16.461181Z"
        },
        "papermill": {
          "duration": 6.952881,
          "end_time": "2021-05-02T21:11:16.462100",
          "exception": false,
          "start_time": "2021-05-02T21:11:09.509219",
          "status": "completed"
        },
        "tags": [],
        "id": "collected-programming"
      },
      "source": [
        "application_train = pd.read_csv('application_train.csv')\n",
        "application_test = pd.read_csv('application_test.csv')"
      ],
      "id": "collected-programming",
      "execution_count": 21,
      "outputs": []
    },
    {
      "cell_type": "markdown",
      "metadata": {
        "papermill": {
          "duration": 0.029991,
          "end_time": "2021-05-02T21:11:16.523011",
          "exception": false,
          "start_time": "2021-05-02T21:11:16.493020",
          "status": "completed"
        },
        "tags": [],
        "id": "seven-stamp"
      },
      "source": [
        "## Check if 'SK_ID_CURR' in the train data"
      ],
      "id": "seven-stamp"
    },
    {
      "cell_type": "code",
      "metadata": {
        "execution": {
          "iopub.execute_input": "2021-05-02T21:11:16.587271Z",
          "iopub.status.busy": "2021-05-02T21:11:16.586579Z",
          "iopub.status.idle": "2021-05-02T21:11:16.592823Z",
          "shell.execute_reply": "2021-05-02T21:11:16.593315Z"
        },
        "papermill": {
          "duration": 0.039906,
          "end_time": "2021-05-02T21:11:16.593488",
          "exception": false,
          "start_time": "2021-05-02T21:11:16.553582",
          "status": "completed"
        },
        "tags": [],
        "id": "controlling-colorado",
        "colab": {
          "base_uri": "https://localhost:8080/"
        },
        "outputId": "e58526c2-bbd5-408b-e98e-88ca35a0bf21"
      },
      "source": [
        "'SK_ID_CURR' in application_train.columns"
      ],
      "id": "controlling-colorado",
      "execution_count": 22,
      "outputs": [
        {
          "output_type": "execute_result",
          "data": {
            "text/plain": [
              "True"
            ]
          },
          "metadata": {
            "tags": []
          },
          "execution_count": 22
        }
      ]
    },
    {
      "cell_type": "markdown",
      "metadata": {
        "papermill": {
          "duration": 0.03144,
          "end_time": "2021-05-02T21:11:16.656052",
          "exception": false,
          "start_time": "2021-05-02T21:11:16.624612",
          "status": "completed"
        },
        "tags": [],
        "id": "recent-consistency"
      },
      "source": [
        "## Merge bureau_proc_final to application data"
      ],
      "id": "recent-consistency"
    },
    {
      "cell_type": "code",
      "metadata": {
        "execution": {
          "iopub.execute_input": "2021-05-02T21:11:16.724351Z",
          "iopub.status.busy": "2021-05-02T21:11:16.723659Z",
          "iopub.status.idle": "2021-05-02T21:11:19.197157Z",
          "shell.execute_reply": "2021-05-02T21:11:19.197640Z"
        },
        "papermill": {
          "duration": 2.511111,
          "end_time": "2021-05-02T21:11:19.197939",
          "exception": false,
          "start_time": "2021-05-02T21:11:16.686828",
          "status": "completed"
        },
        "tags": [],
        "id": "verbal-vehicle",
        "colab": {
          "base_uri": "https://localhost:8080/"
        },
        "outputId": "0ec767ea-4fb0-4d35-cf07-a513703c6a99"
      },
      "source": [
        "train_merged = pd.merge(application_train, bureau_proc_final, how='left', on='SK_ID_CURR')\n",
        "test_merged = pd.merge(application_test, bureau_proc_final, how='left', on='SK_ID_CURR')\n",
        "print(application_train.shape)\n",
        "print(train_merged.shape)\n",
        "print(application_test.shape)\n",
        "print(test_merged.shape)"
      ],
      "id": "verbal-vehicle",
      "execution_count": 23,
      "outputs": [
        {
          "output_type": "stream",
          "text": [
            "(307511, 122)\n",
            "(307511, 154)\n",
            "(48744, 121)\n",
            "(48744, 153)\n"
          ],
          "name": "stdout"
        }
      ]
    },
    {
      "cell_type": "markdown",
      "metadata": {
        "papermill": {
          "duration": 0.031694,
          "end_time": "2021-05-02T21:11:19.262113",
          "exception": false,
          "start_time": "2021-05-02T21:11:19.230419",
          "status": "completed"
        },
        "tags": [],
        "id": "capital-appeal"
      },
      "source": [
        "## Drop ID columns for training"
      ],
      "id": "capital-appeal"
    },
    {
      "cell_type": "code",
      "metadata": {
        "execution": {
          "iopub.execute_input": "2021-05-02T21:11:19.332367Z",
          "iopub.status.busy": "2021-05-02T21:11:19.330891Z",
          "iopub.status.idle": "2021-05-02T21:11:20.010840Z",
          "shell.execute_reply": "2021-05-02T21:11:20.011407Z"
        },
        "papermill": {
          "duration": 0.718112,
          "end_time": "2021-05-02T21:11:20.011581",
          "exception": false,
          "start_time": "2021-05-02T21:11:19.293469",
          "status": "completed"
        },
        "tags": [],
        "id": "hindu-iraqi"
      },
      "source": [
        "train_merged.drop('SK_ID_CURR', axis=1, inplace=True)\n",
        "test_merged.drop('SK_ID_CURR', axis=1, inplace=True)"
      ],
      "id": "hindu-iraqi",
      "execution_count": 24,
      "outputs": []
    },
    {
      "cell_type": "markdown",
      "metadata": {
        "id": "LcBvshnkMPy2"
      },
      "source": [
        "### DROP SOME FEATURES"
      ],
      "id": "LcBvshnkMPy2"
    },
    {
      "cell_type": "code",
      "metadata": {
        "id": "hTgsxt8rMl7n"
      },
      "source": [
        "features_to_drop = ['EXT_SOURCE_1', 'EXT_SOURCE_2', 'EXT_SOURCE_3', 'FLAG_MOBIL', 'FLAG_CONT_MOBILE']\n",
        "for feature in train_merged.columns:\n",
        "    if 'FLAG_DOCUMENT' in feature:\n",
        "        features_to_drop.append(feature)\n",
        "train_merged.drop(features_to_drop, axis = 1, inplace = True)\n",
        "test_merged.drop(features_to_drop, axis = 1, inplace = True)"
      ],
      "id": "hTgsxt8rMl7n",
      "execution_count": 25,
      "outputs": []
    },
    {
      "cell_type": "markdown",
      "metadata": {
        "id": "OvnW6juKMuXJ"
      },
      "source": [
        "### ADD NEW FEATURES"
      ],
      "id": "OvnW6juKMuXJ"
    },
    {
      "cell_type": "code",
      "metadata": {
        "id": "J7l2rVqYMx8M"
      },
      "source": [
        "train_merged['PRICE/CREDIT'] = train_merged['AMT_GOODS_PRICE']/train_merged['AMT_CREDIT']\n",
        "test_merged['PRICE/CREDIT'] = test_merged['AMT_GOODS_PRICE']/test_merged['AMT_CREDIT']"
      ],
      "id": "J7l2rVqYMx8M",
      "execution_count": 26,
      "outputs": []
    },
    {
      "cell_type": "markdown",
      "metadata": {
        "papermill": {
          "duration": 0.031477,
          "end_time": "2021-05-02T21:11:20.075064",
          "exception": false,
          "start_time": "2021-05-02T21:11:20.043587",
          "status": "completed"
        },
        "tags": [],
        "id": "enhanced-lindsay"
      },
      "source": [
        "## Extract numerical and categorical features for further processing: impute, scaling"
      ],
      "id": "enhanced-lindsay"
    },
    {
      "cell_type": "code",
      "metadata": {
        "execution": {
          "iopub.execute_input": "2021-05-02T21:11:20.176196Z",
          "iopub.status.busy": "2021-05-02T21:11:20.175443Z",
          "iopub.status.idle": "2021-05-02T21:11:20.179078Z",
          "shell.execute_reply": "2021-05-02T21:11:20.178395Z"
        },
        "papermill": {
          "duration": 0.072823,
          "end_time": "2021-05-02T21:11:20.179219",
          "exception": false,
          "start_time": "2021-05-02T21:11:20.106396",
          "status": "completed"
        },
        "tags": [],
        "id": "floating-consumption"
      },
      "source": [
        "num_features_1 = train_merged.select_dtypes(include='int64').columns.tolist()\n",
        "num_features_1.remove('TARGET')"
      ],
      "id": "floating-consumption",
      "execution_count": 27,
      "outputs": []
    },
    {
      "cell_type": "code",
      "metadata": {
        "execution": {
          "iopub.execute_input": "2021-05-02T21:11:20.343093Z",
          "iopub.status.busy": "2021-05-02T21:11:20.342381Z",
          "iopub.status.idle": "2021-05-02T21:11:20.345921Z",
          "shell.execute_reply": "2021-05-02T21:11:20.345151Z"
        },
        "papermill": {
          "duration": 0.135156,
          "end_time": "2021-05-02T21:11:20.346066",
          "exception": false,
          "start_time": "2021-05-02T21:11:20.210910",
          "status": "completed"
        },
        "tags": [],
        "id": "conditional-resolution"
      },
      "source": [
        "num_features_2 = train_merged.select_dtypes(include='float64').columns.tolist()"
      ],
      "id": "conditional-resolution",
      "execution_count": 28,
      "outputs": []
    },
    {
      "cell_type": "code",
      "metadata": {
        "execution": {
          "iopub.execute_input": "2021-05-02T21:11:20.467755Z",
          "iopub.status.busy": "2021-05-02T21:11:20.467114Z",
          "iopub.status.idle": "2021-05-02T21:11:20.470205Z",
          "shell.execute_reply": "2021-05-02T21:11:20.469581Z"
        },
        "papermill": {
          "duration": 0.092394,
          "end_time": "2021-05-02T21:11:20.470350",
          "exception": false,
          "start_time": "2021-05-02T21:11:20.377956",
          "status": "completed"
        },
        "tags": [],
        "id": "practical-summer"
      },
      "source": [
        "cat_features = train_merged.select_dtypes(include='object').columns.tolist()"
      ],
      "id": "practical-summer",
      "execution_count": 29,
      "outputs": []
    },
    {
      "cell_type": "code",
      "metadata": {
        "id": "mAkprs_24O0D"
      },
      "source": [
        "num_features = num_features_1 + num_features_2\n",
        "features = num_features + cat_features"
      ],
      "id": "mAkprs_24O0D",
      "execution_count": 30,
      "outputs": []
    },
    {
      "cell_type": "markdown",
      "metadata": {
        "id": "GnLOEuK4Ne9U"
      },
      "source": [
        "### EDA"
      ],
      "id": "GnLOEuK4Ne9U"
    },
    {
      "cell_type": "code",
      "metadata": {
        "id": "kXX63fK_NgX5"
      },
      "source": [
        "import seaborn as sns\n",
        "import matplotlib.pyplot as plt"
      ],
      "id": "kXX63fK_NgX5",
      "execution_count": 31,
      "outputs": []
    },
    {
      "cell_type": "markdown",
      "metadata": {
        "id": "pmGG_j2Y-l7N"
      },
      "source": [
        " ### Обработка данных\n"
      ],
      "id": "pmGG_j2Y-l7N"
    },
    {
      "cell_type": "markdown",
      "metadata": {
        "id": "oAQYBo2cCLmp"
      },
      "source": [
        "Заполняем пропущенные значеня в вещественных фичах"
      ],
      "id": "oAQYBo2cCLmp"
    },
    {
      "cell_type": "code",
      "metadata": {
        "id": "-U8m3lKuAIJQ"
      },
      "source": [
        "for feature in num_features:\n",
        "    fill_value = train_merged[feature].mean()\n",
        "    train_merged[feature].fillna(fill_value, inplace = True)\n",
        "    test_merged[feature].fillna(fill_value, inplace = True)"
      ],
      "id": "-U8m3lKuAIJQ",
      "execution_count": 32,
      "outputs": []
    },
    {
      "cell_type": "code",
      "metadata": {
        "colab": {
          "base_uri": "https://localhost:8080/"
        },
        "id": "WoLcnp-dAsnq",
        "outputId": "e3f0b0a4-b84c-44d0-8b4f-6de2f4dcc73b"
      },
      "source": [
        "np.sum(train_merged[num_features].isna().sum() != 0)"
      ],
      "id": "WoLcnp-dAsnq",
      "execution_count": 33,
      "outputs": [
        {
          "output_type": "execute_result",
          "data": {
            "text/plain": [
              "0"
            ]
          },
          "metadata": {
            "tags": []
          },
          "execution_count": 33
        }
      ]
    },
    {
      "cell_type": "markdown",
      "metadata": {
        "id": "vBw37_LOCS_L"
      },
      "source": [
        "Заполняем пропущенные значения в категориальных фичах и делаем лейбл энкодинг"
      ],
      "id": "vBw37_LOCS_L"
    },
    {
      "cell_type": "code",
      "metadata": {
        "id": "IhLK79KoCa_6"
      },
      "source": [
        "for feature in cat_features:\n",
        "    train_merged[feature].fillna('missing', inplace = True)\n",
        "    test_merged[feature].fillna('missing', inplace = True)\n",
        "    label_encoder = LabelEncoder()\n",
        "    uniq_labels = train_merged[feature].unique()\n",
        "    train_merged[feature] = label_encoder.fit_transform(train_merged[feature])\n",
        "\n",
        "    encoded_features[feature] = dict(zip(uniq_labels,label_encoder.transform(uniq_labels)))\n",
        "    test_merged[feature] = label_encoder.transform(test_merged[feature])"
      ],
      "id": "IhLK79KoCa_6",
      "execution_count": 34,
      "outputs": []
    },
    {
      "cell_type": "code",
      "metadata": {
        "colab": {
          "base_uri": "https://localhost:8080/"
        },
        "id": "aAs3drs_EI_C",
        "outputId": "2e2b2181-a08d-4be6-854e-5ff39f99fe0c"
      },
      "source": [
        "train_merged[cat_features].isna().sum()"
      ],
      "id": "aAs3drs_EI_C",
      "execution_count": 35,
      "outputs": [
        {
          "output_type": "execute_result",
          "data": {
            "text/plain": [
              "NAME_CONTRACT_TYPE            0\n",
              "CODE_GENDER                   0\n",
              "FLAG_OWN_CAR                  0\n",
              "FLAG_OWN_REALTY               0\n",
              "NAME_TYPE_SUITE               0\n",
              "NAME_INCOME_TYPE              0\n",
              "NAME_EDUCATION_TYPE           0\n",
              "NAME_FAMILY_STATUS            0\n",
              "NAME_HOUSING_TYPE             0\n",
              "OCCUPATION_TYPE               0\n",
              "WEEKDAY_APPR_PROCESS_START    0\n",
              "ORGANIZATION_TYPE             0\n",
              "FONDKAPREMONT_MODE            0\n",
              "HOUSETYPE_MODE                0\n",
              "WALLSMATERIAL_MODE            0\n",
              "EMERGENCYSTATE_MODE           0\n",
              "dtype: int64"
            ]
          },
          "metadata": {
            "tags": []
          },
          "execution_count": 35
        }
      ]
    },
    {
      "cell_type": "markdown",
      "metadata": {
        "id": "ifV5o4bRM_nZ"
      },
      "source": [
        "### Сохраняем данные и делим выделяем таргер"
      ],
      "id": "ifV5o4bRM_nZ"
    },
    {
      "cell_type": "code",
      "metadata": {
        "id": "YOL4nafiBePx"
      },
      "source": [
        "#train_merged['AGE/EXPERIENCE'] = train_merged['DAYS_BIRTH']/train_merged['DAYS_EMPLOYED']\n",
        "#test_merged['AGE/EXPERIENCE'] = test_merged['DAYS_BIRTH']/test_merged['DAYS_EMPLOYED']"
      ],
      "id": "YOL4nafiBePx",
      "execution_count": 36,
      "outputs": []
    },
    {
      "cell_type": "code",
      "metadata": {
        "id": "1I8-QC4qDIl-"
      },
      "source": [
        "train_merged.to_csv('train_merged.csv', index= False)\n",
        "test_merged.to_csv('test_merged.csv', index = False)\n"
      ],
      "id": "1I8-QC4qDIl-",
      "execution_count": 37,
      "outputs": []
    },
    {
      "cell_type": "code",
      "metadata": {
        "colab": {
          "base_uri": "https://localhost:8080/"
        },
        "id": "JlppQnteEgqB",
        "outputId": "52c0c935-1be2-48a1-f0e5-5355cc9dd776"
      },
      "source": [
        "X_train = train_merged.drop(['TARGET'], axis = 1)\n",
        "X_test = test_merged.copy()\n",
        "y_train = train_merged.TARGET.values\n",
        "print('X_train shape:', X_train.shape)"
      ],
      "id": "JlppQnteEgqB",
      "execution_count": 38,
      "outputs": [
        {
          "output_type": "stream",
          "text": [
            "X_train shape: (307511, 128)\n"
          ],
          "name": "stdout"
        }
      ]
    },
    {
      "cell_type": "markdown",
      "metadata": {
        "id": "WsTWQ_EYay-B"
      },
      "source": [
        "### TRAINING difficult Model"
      ],
      "id": "WsTWQ_EYay-B"
    },
    {
      "cell_type": "code",
      "metadata": {
        "id": "FEH74B1ZRsJf"
      },
      "source": [
        "from lightgbm import LGBMClassifier"
      ],
      "id": "FEH74B1ZRsJf",
      "execution_count": 39,
      "outputs": []
    },
    {
      "cell_type": "code",
      "metadata": {
        "id": "fCpWItKpEJ-P"
      },
      "source": [
        "from xgboost import XGBClassifier"
      ],
      "id": "fCpWItKpEJ-P",
      "execution_count": 40,
      "outputs": []
    },
    {
      "cell_type": "code",
      "metadata": {
        "colab": {
          "base_uri": "https://localhost:8080/"
        },
        "id": "8-2U5CacIzfl",
        "outputId": "b118cc37-094c-4465-d5ef-22792029895a"
      },
      "source": [
        "difficult_model_2 = LGBMClassifier(random_state=42, eval_metric=\"auc\", max_depth=4,learning_rate=0.277, gamma=0.382)\n",
        "\n",
        "difficult_model_2.fit(X_train, y_train)"
      ],
      "id": "8-2U5CacIzfl",
      "execution_count": 41,
      "outputs": [
        {
          "output_type": "execute_result",
          "data": {
            "text/plain": [
              "LGBMClassifier(boosting_type='gbdt', class_weight=None, colsample_bytree=1.0,\n",
              "               eval_metric='auc', gamma=0.382, importance_type='split',\n",
              "               learning_rate=0.277, max_depth=4, min_child_samples=20,\n",
              "               min_child_weight=0.001, min_split_gain=0.0, n_estimators=100,\n",
              "               n_jobs=-1, num_leaves=31, objective=None, random_state=42,\n",
              "               reg_alpha=0.0, reg_lambda=0.0, silent=True, subsample=1.0,\n",
              "               subsample_for_bin=200000, subsample_freq=0)"
            ]
          },
          "metadata": {
            "tags": []
          },
          "execution_count": 41
        }
      ]
    },
    {
      "cell_type": "code",
      "metadata": {
        "colab": {
          "base_uri": "https://localhost:8080/"
        },
        "id": "P13ZVKcgR6fM",
        "outputId": "06b4d2db-42fa-458f-8394-d049223cfb18"
      },
      "source": [
        "#difficult_model = LGBMClassifier(random_state=42, eval_metric=\"auc\", max_depth=4,learning_rate=0.277, gamma=0.382)\n",
        "\n",
        "difficult_model = XGBClassifier(objective=\"binary:logistic\", random_state=42, eval_metric=\"auc\", \n",
        "                              max_depth=4,learning_rate=0.277, gamma=0.382)\n",
        "\n",
        "difficult_model.fit(X_train, y_train)"
      ],
      "id": "P13ZVKcgR6fM",
      "execution_count": 42,
      "outputs": [
        {
          "output_type": "execute_result",
          "data": {
            "text/plain": [
              "XGBClassifier(base_score=0.5, booster='gbtree', colsample_bylevel=1,\n",
              "              colsample_bynode=1, colsample_bytree=1, eval_metric='auc',\n",
              "              gamma=0.382, learning_rate=0.277, max_delta_step=0, max_depth=4,\n",
              "              min_child_weight=1, missing=None, n_estimators=100, n_jobs=1,\n",
              "              nthread=None, objective='binary:logistic', random_state=42,\n",
              "              reg_alpha=0, reg_lambda=1, scale_pos_weight=1, seed=None,\n",
              "              silent=None, subsample=1, verbosity=1)"
            ]
          },
          "metadata": {
            "tags": []
          },
          "execution_count": 42
        }
      ]
    },
    {
      "cell_type": "code",
      "metadata": {
        "id": "yeA-SOjMkn8f"
      },
      "source": [
        "import sklearn.metrics as metrics\n",
        "def plot_AUC(model,X_test,y_test):\n",
        "    probs = model.predict_proba(X_test)\n",
        "    preds = probs[:,1]\n",
        "    fpr, tpr, threshold = metrics.roc_curve(y_test, preds)\n",
        "    roc_auc = metrics.auc(fpr, tpr)\n",
        "\n",
        "    plt.title('Receiver Operating Characteristic')\n",
        "    plt.plot(fpr, tpr, 'b', label = 'AUC = %0.2f' % roc_auc)\n",
        "    plt.legend(loc = 'lower right')\n",
        "    plt.plot([0, 1], [0, 1],'r--')\n",
        "    plt.xlim([0, 1])\n",
        "    plt.ylim([0, 1])\n",
        "    plt.ylabel('True Positive Rate')\n",
        "    plt.xlabel('False Positive Rate')\n",
        "    plt.show()\n",
        "    return roc_auc*2-1"
      ],
      "id": "yeA-SOjMkn8f",
      "execution_count": 43,
      "outputs": []
    },
    {
      "cell_type": "code",
      "metadata": {
        "colab": {
          "base_uri": "https://localhost:8080/",
          "height": 312
        },
        "id": "9rMvXMyIkrMa",
        "outputId": "eee7e9e2-8dd7-4288-ee21-6b8211e9ed47"
      },
      "source": [
        "plot_AUC(difficult_model, X_train, y_train)"
      ],
      "id": "9rMvXMyIkrMa",
      "execution_count": 44,
      "outputs": [
        {
          "output_type": "display_data",
          "data": {
            "image/png": "[encoded data removed]",
            "text/plain": [
              "<Figure size 432x288 with 1 Axes>"
            ]
          },
          "metadata": {
            "tags": [],
            "needs_background": "light"
          }
        },
        {
          "output_type": "execute_result",
          "data": {
            "text/plain": [
              "0.5324742200590096"
            ]
          },
          "metadata": {
            "tags": []
          },
          "execution_count": 44
        }
      ]
    },
    {
      "cell_type": "code",
      "metadata": {
        "colab": {
          "base_uri": "https://localhost:8080/",
          "height": 312
        },
        "id": "dGzqhE4II5PI",
        "outputId": "7ac74cbf-f1cb-4e63-a334-4cb3e7a39f28"
      },
      "source": [
        "plot_AUC(difficult_model_2, X_train, y_train)"
      ],
      "id": "dGzqhE4II5PI",
      "execution_count": 45,
      "outputs": [
        {
          "output_type": "display_data",
          "data": {
            "image/png": "[encoded data removed]",
            "text/plain": [
              "<Figure size 432x288 with 1 Axes>"
            ]
          },
          "metadata": {
            "tags": [],
            "needs_background": "light"
          }
        },
        {
          "output_type": "execute_result",
          "data": {
            "text/plain": [
              "0.5341854955924572"
            ]
          },
          "metadata": {
            "tags": []
          },
          "execution_count": 45
        }
      ]
    },
    {
      "cell_type": "code",
      "metadata": {
        "id": "XeVH_EGxI_k2"
      },
      "source": [
        "dif_model_predicted = [p[1] for p in difficult_model.predict_proba(X_train)]\n",
        "dif_model_2_predicted = [p[1] for p in difficult_model_2.predict_proba(X_train)]"
      ],
      "id": "XeVH_EGxI_k2",
      "execution_count": 46,
      "outputs": []
    },
    {
      "cell_type": "markdown",
      "metadata": {
        "papermill": {
          "duration": 0.033262,
          "end_time": "2021-05-02T21:13:38.574938",
          "exception": false,
          "start_time": "2021-05-02T21:13:38.541676",
          "status": "completed"
        },
        "tags": [],
        "id": "stupid-christmas"
      },
      "source": [
        "# Train logreg"
      ],
      "id": "stupid-christmas"
    },
    {
      "cell_type": "code",
      "metadata": {
        "id": "7PUu400QS0yW"
      },
      "source": [
        "from sklearn.linear_model import LogisticRegression"
      ],
      "id": "7PUu400QS0yW",
      "execution_count": 47,
      "outputs": []
    },
    {
      "cell_type": "code",
      "metadata": {
        "id": "nO1aFDDxUMON"
      },
      "source": [
        "feature_imp = sorted([(f,i) for f,i in zip(X_train.columns, difficult_model.feature_importances_)], key = lambda x: x[1], reverse=True)\n",
        "selected_features = [f[0] for f in feature_imp[:20]]"
      ],
      "id": "nO1aFDDxUMON",
      "execution_count": 48,
      "outputs": []
    },
    {
      "cell_type": "code",
      "metadata": {
        "colab": {
          "base_uri": "https://localhost:8080/"
        },
        "id": "QUSeuXeoS80B",
        "outputId": "d425829f-4ef0-45fb-9e1c-188b35b187a2"
      },
      "source": [
        "logreg_model = LogisticRegression(random_state=42, max_iter=10000)\n",
        "logreg_model.fit(X_train[selected_features], y_train)"
      ],
      "id": "QUSeuXeoS80B",
      "execution_count": 49,
      "outputs": [
        {
          "output_type": "execute_result",
          "data": {
            "text/plain": [
              "LogisticRegression(C=1.0, class_weight=None, dual=False, fit_intercept=True,\n",
              "                   intercept_scaling=1, l1_ratio=None, max_iter=10000,\n",
              "                   multi_class='auto', n_jobs=None, penalty='l2',\n",
              "                   random_state=42, solver='lbfgs', tol=0.0001, verbose=0,\n",
              "                   warm_start=False)"
            ]
          },
          "metadata": {
            "tags": []
          },
          "execution_count": 49
        }
      ]
    },
    {
      "cell_type": "code",
      "metadata": {
        "colab": {
          "base_uri": "https://localhost:8080/",
          "height": 312
        },
        "id": "V54BRVYbTBWb",
        "outputId": "774583f5-6bf2-4b41-e1d6-e219839df233"
      },
      "source": [
        "plot_AUC(logreg_model, X_train[selected_features], y_train)"
      ],
      "id": "V54BRVYbTBWb",
      "execution_count": 50,
      "outputs": [
        {
          "output_type": "display_data",
          "data": {
            "image/png": "[encoded data removed]",
            "text/plain": [
              "<Figure size 432x288 with 1 Axes>"
            ]
          },
          "metadata": {
            "tags": [],
            "needs_background": "light"
          }
        },
        {
          "output_type": "execute_result",
          "data": {
            "text/plain": [
              "0.22697810449449185"
            ]
          },
          "metadata": {
            "tags": []
          },
          "execution_count": 50
        }
      ]
    },
    {
      "cell_type": "markdown",
      "metadata": {
        "id": "ECuPh_2bA_FF"
      },
      "source": [
        "# Train riskpy"
      ],
      "id": "ECuPh_2bA_FF"
    },
    {
      "cell_type": "code",
      "metadata": {
        "id": "5qh5hZ33A-Gi",
        "outputId": "0ebd157e-a537-4d2c-d250-12ab09ad2e61",
        "colab": {
          "base_uri": "https://localhost:8080/"
        }
      },
      "source": [
        "!pip install git+https://github.com/Falconwatch/riskpy.git@master"
      ],
      "id": "5qh5hZ33A-Gi",
      "execution_count": 109,
      "outputs": [
        {
          "output_type": "stream",
          "text": [
            "Collecting git+https://github.com/Falconwatch/riskpy.git@master\n",
            "  Cloning https://github.com/Falconwatch/riskpy.git (to revision master) to /tmp/pip-req-build-hoe9mk3_\n",
            "  Running command git clone -q https://github.com/Falconwatch/riskpy.git /tmp/pip-req-build-hoe9mk3_\n",
            "  Running command git checkout -b master --track origin/master\n",
            "  Switched to a new branch 'master'\n",
            "  Branch 'master' set up to track remote branch 'master' from 'origin'.\n",
            "Requirement already satisfied: numpy in /usr/local/lib/python3.7/dist-packages (from riskpy==0.0.4) (1.19.5)\n",
            "Requirement already satisfied: pandas in /usr/local/lib/python3.7/dist-packages (from riskpy==0.0.4) (1.1.5)\n",
            "Requirement already satisfied: scikit-learn in /usr/local/lib/python3.7/dist-packages (from riskpy==0.0.4) (0.22.2.post1)\n",
            "Requirement already satisfied: matplotlib in /usr/local/lib/python3.7/dist-packages (from riskpy==0.0.4) (3.2.2)\n",
            "Requirement already satisfied: statsmodels in /usr/local/lib/python3.7/dist-packages (from riskpy==0.0.4) (0.10.2)\n",
            "Requirement already satisfied: seaborn in /usr/local/lib/python3.7/dist-packages (from riskpy==0.0.4) (0.11.1)\n",
            "Requirement already satisfied: scipy in /usr/local/lib/python3.7/dist-packages (from riskpy==0.0.4) (1.4.1)\n",
            "Requirement already satisfied: pytz>=2017.2 in /usr/local/lib/python3.7/dist-packages (from pandas->riskpy==0.0.4) (2018.9)\n",
            "Requirement already satisfied: python-dateutil>=2.7.3 in /usr/local/lib/python3.7/dist-packages (from pandas->riskpy==0.0.4) (2.8.1)\n",
            "Requirement already satisfied: joblib>=0.11 in /usr/local/lib/python3.7/dist-packages (from scikit-learn->riskpy==0.0.4) (1.0.1)\n",
            "Requirement already satisfied: pyparsing!=2.0.4,!=2.1.2,!=2.1.6,>=2.0.1 in /usr/local/lib/python3.7/dist-packages (from matplotlib->riskpy==0.0.4) (2.4.7)\n",
            "Requirement already satisfied: cycler>=0.10 in /usr/local/lib/python3.7/dist-packages (from matplotlib->riskpy==0.0.4) (0.10.0)\n",
            "Requirement already satisfied: kiwisolver>=1.0.1 in /usr/local/lib/python3.7/dist-packages (from matplotlib->riskpy==0.0.4) (1.3.1)\n",
            "Requirement already satisfied: patsy>=0.4.0 in /usr/local/lib/python3.7/dist-packages (from statsmodels->riskpy==0.0.4) (0.5.1)\n",
            "Requirement already satisfied: six>=1.5 in /usr/local/lib/python3.7/dist-packages (from python-dateutil>=2.7.3->pandas->riskpy==0.0.4) (1.15.0)\n",
            "Building wheels for collected packages: riskpy\n",
            "  Building wheel for riskpy (setup.py) ... \u001b[?25l\u001b[?25hdone\n",
            "  Created wheel for riskpy: filename=riskpy-0.0.4-cp37-none-any.whl size=31781 sha256=1f97fcd9390db3137babbac8015672fe40099f4835d198bada9f1baabd46b771\n",
            "  Stored in directory: /tmp/pip-ephem-wheel-cache-72q5j7w_/wheels/4b/8b/30/1ff8c31ce3c64eb17909ee4b39a0ab6df6a06f7d2f75caabea\n",
            "Successfully built riskpy\n",
            "Installing collected packages: riskpy\n",
            "Successfully installed riskpy-0.0.4\n"
          ],
          "name": "stdout"
        }
      ]
    },
    {
      "cell_type": "code",
      "metadata": {
        "id": "R7aTlfZyBP9j"
      },
      "source": [
        "from riskpy.modeling.binning import Binner\n",
        "from riskpy.graphs.graphs import roc\n",
        "\n",
        "import warnings\n",
        "warnings.filterwarnings('ignore')"
      ],
      "id": "R7aTlfZyBP9j",
      "execution_count": 145,
      "outputs": []
    },
    {
      "cell_type": "code",
      "metadata": {
        "id": "HvoU7VkNBn6w"
      },
      "source": [
        "data_for_riskpy = X_train.copy()\n",
        "data_for_riskpy['target'] = y_train"
      ],
      "id": "HvoU7VkNBn6w",
      "execution_count": 146,
      "outputs": []
    },
    {
      "cell_type": "code",
      "metadata": {
        "id": "K0eixC8IBkKY"
      },
      "source": [
        "binner  = Binner()\n",
        "fitted_bins = binner.fit(data_for_riskpy, target = 'target')"
      ],
      "id": "K0eixC8IBkKY",
      "execution_count": 147,
      "outputs": []
    },
    {
      "cell_type": "code",
      "metadata": {
        "id": "nDLodDaMB1EZ"
      },
      "source": [
        "data_for_riskpy_trainsformed = binner.transform(data_for_riskpy)"
      ],
      "id": "nDLodDaMB1EZ",
      "execution_count": 148,
      "outputs": []
    },
    {
      "cell_type": "code",
      "metadata": {
        "id": "aN3odH2ACi2d"
      },
      "source": [
        "fitted_columns = [fb._name+'_woe' for fb in fitted_bins if len(fb._gaps)>1]"
      ],
      "id": "aN3odH2ACi2d",
      "execution_count": 149,
      "outputs": []
    },
    {
      "cell_type": "code",
      "metadata": {
        "id": "X_RSgu7KCgwp",
        "outputId": "383bfed9-d5cc-4849-82f1-26422bbeb561",
        "colab": {
          "base_uri": "https://localhost:8080/"
        }
      },
      "source": [
        "logreg_riskpy = LogisticRegression( max_iter =1000)\n",
        "logreg_riskpy.fit(data_for_riskpy_trainsformed[fitted_columns], y_train)"
      ],
      "id": "X_RSgu7KCgwp",
      "execution_count": 150,
      "outputs": [
        {
          "output_type": "execute_result",
          "data": {
            "text/plain": [
              "LogisticRegression(C=1.0, class_weight=None, dual=False, fit_intercept=True,\n",
              "                   intercept_scaling=1, l1_ratio=None, max_iter=1000,\n",
              "                   multi_class='auto', n_jobs=None, penalty='l2',\n",
              "                   random_state=None, solver='lbfgs', tol=0.0001, verbose=0,\n",
              "                   warm_start=False)"
            ]
          },
          "metadata": {
            "tags": []
          },
          "execution_count": 150
        }
      ]
    },
    {
      "cell_type": "code",
      "metadata": {
        "id": "VOWc7rGvDWnP"
      },
      "source": [
        "riskpy_predictions = [p[1] for p in logreg_riskpy.predict_proba(data_for_riskpy_trainsformed[fitted_columns])]"
      ],
      "id": "VOWc7rGvDWnP",
      "execution_count": 151,
      "outputs": []
    },
    {
      "cell_type": "code",
      "metadata": {
        "id": "NCGpz-R7D671",
        "outputId": "c64bf086-7427-4d5a-f669-caa4e97e96ea",
        "colab": {
          "base_uri": "https://localhost:8080/",
          "height": 638
        }
      },
      "source": [
        "roc(y_train, riskpy_predictions)"
      ],
      "id": "NCGpz-R7D671",
      "execution_count": 152,
      "outputs": [
        {
          "output_type": "stream",
          "text": [
            "Gini: 0.41082720436687925\n"
          ],
          "name": "stdout"
        },
        {
          "output_type": "display_data",
          "data": {
            "image/png": "[encoded data removed]",
            "text/plain": [
              "<Figure size 720x720 with 1 Axes>"
            ]
          },
          "metadata": {
            "tags": [],
            "needs_background": "light"
          }
        }
      ]
    },
    {
      "cell_type": "markdown",
      "metadata": {
        "id": "ODzrN6aiVd8_"
      },
      "source": [
        "# Оценка экономического эффекта"
      ],
      "id": "ODzrN6aiVd8_"
    },
    {
      "cell_type": "code",
      "metadata": {
        "id": "8W0i5vZnWYm-"
      },
      "source": [
        "data_analysis = X_train.copy()\n",
        "\n",
        "logreg_predictions = [p[1] for p in logreg_model.predict_proba(X_train[selected_features])]\n",
        "\n",
        "#data_analysis['logreg_pd'] = logreg_predictions\n",
        "data_analysis['logreg_pd'] = riskpy_predictions\n",
        "data_analysis['diff_pd'] = dif_model_predicted\n",
        "data_analysis['diff_2_pd'] = dif_model_2_predicted\n",
        "data_analysis['target'] = y_train"
      ],
      "id": "8W0i5vZnWYm-",
      "execution_count": 153,
      "outputs": []
    },
    {
      "cell_type": "markdown",
      "metadata": {
        "id": "FkJdOTSBZzaH"
      },
      "source": [
        "## Оценка по RWA"
      ],
      "id": "FkJdOTSBZzaH"
    },
    {
      "cell_type": "code",
      "metadata": {
        "id": "QEwx1I5KVkPB"
      },
      "source": [
        "from scipy.stats import norm\n",
        "import math\n",
        "\n",
        "def get_rwa(my_pd, my_lgd, my_ead, my_r=0.03):\n",
        "    k = (norm.cdf((norm.ppf(my_pd) + np.sqrt(my_r) * norm.ppf(0.999))/(np.sqrt(1-my_r))) - my_pd) * my_lgd\n",
        "    rwa = k * 12.5 * my_ead\n",
        "    return rwa\n",
        "\n",
        "def eval_model(dataset, pd_column = 'pd_ttc', default_column = 'default_12m', ead_column = 'balance_at_report_dt'):\n",
        "    g = roc_auc_score(dataset[default_column], dataset[pd_column])*2-1\n",
        "    rwa_arr = get_rwa(dataset[pd_column], 0.72, dataset[ead_column])\n",
        "    #rwa_ead_arr = rwa_arr / dataset[ead_column]\n",
        "    rwa = rwa_arr.sum()/dataset[ead_column].sum()\n",
        "    return g, rwa\n",
        "\n",
        "def model_enchancment_profit(eads, rwa_base, rwa_adv):\n",
        "  return np.sum(eads) * (rwa_base - rwa_adv)"
      ],
      "id": "QEwx1I5KVkPB",
      "execution_count": 154,
      "outputs": []
    },
    {
      "cell_type": "code",
      "metadata": {
        "id": "LiwSFZd5Qoem"
      },
      "source": [
        "def rwa_two_models(base_pd, adv_pd):\n",
        "  print(\"Базовая модель\")\n",
        "  base_model = eval_model(data_analysis, pd_column=base_pd, default_column='target', ead_column='AMT_CREDIT')\n",
        "  base_gini = base_model[0]\n",
        "  base_rwa_rub = base_model[1]\n",
        "  base_rwa = data_analysis['AMT_CREDIT'].sum() * base_rwa_rub\n",
        "  print('Gini: ', base_gini)\n",
        "  print('RWA на рубль: ', base_rwa_rub)\n",
        "  print('RWA всего: ',base_rwa)\n",
        "  print('-------------------------------')\n",
        "\n",
        "  print(\"Продвинутая модель\")\n",
        "  advanced_model = eval_model(data_analysis, pd_column=adv_pd, default_column='target', ead_column='AMT_CREDIT')\n",
        "  adv_gini = advanced_model[0]\n",
        "  adv_rwa_rub = advanced_model[1]\n",
        "  adv_rwa = data_analysis['AMT_CREDIT'].sum() * adv_rwa_rub\n",
        "  print('Gini: ', adv_gini)\n",
        "  print('RWA на рубль: ', adv_rwa_rub)\n",
        "  print('RWA всего: ', adv_rwa)\n",
        "  print('-------------------------------')\n",
        "\n",
        "  print(\"Экономический эффект от улучшения модели\")\n",
        "  print(model_enchancment_profit(data_analysis['AMT_CREDIT'], base_rwa_rub, adv_rwa_rub))  \n",
        "  return {'base_gini':base_gini, 'base_rwa_rub':base_rwa_rub, 'base_rwa':base_rwa, \n",
        "          'adv_gini':adv_gini, 'adv_rwa_rub':adv_rwa_rub, 'adv_rwa':adv_rwa}"
      ],
      "id": "LiwSFZd5Qoem",
      "execution_count": 155,
      "outputs": []
    },
    {
      "cell_type": "code",
      "metadata": {
        "colab": {
          "base_uri": "https://localhost:8080/"
        },
        "id": "dxns1aXbRLnH",
        "outputId": "a674bbd1-6ee7-407c-ecf1-b73f7e61f2ea"
      },
      "source": [
        "print(\"База - xgb, продвинутый  - lgbm\")\n",
        "dif_models_comp = rwa_two_models('diff_pd', 'diff_2_pd')\n",
        "dif_models_comp"
      ],
      "id": "dxns1aXbRLnH",
      "execution_count": 156,
      "outputs": [
        {
          "output_type": "stream",
          "text": [
            "База - xgb, продвинутый  - lgbm\n",
            "Базовая модель\n",
            "Gini:  0.5324742200590096\n",
            "RWA на рубль:  0.8373997355922147\n",
            "RWA всего:  154254963599.52454\n",
            "-------------------------------\n",
            "Продвинутая модель\n",
            "Gini:  0.5341854955924572\n",
            "RWA на рубль:  0.8327243152449018\n",
            "RWA всего:  153393718049.9577\n",
            "-------------------------------\n",
            "Экономический эффект от улучшения модели\n",
            "861245549.566829\n"
          ],
          "name": "stdout"
        },
        {
          "output_type": "execute_result",
          "data": {
            "text/plain": [
              "{'adv_gini': 0.5341854955924572,\n",
              " 'adv_rwa': 153393718049.9577,\n",
              " 'adv_rwa_rub': 0.8327243152449018,\n",
              " 'base_gini': 0.5324742200590096,\n",
              " 'base_rwa': 154254963599.52454,\n",
              " 'base_rwa_rub': 0.8373997355922147}"
            ]
          },
          "metadata": {
            "tags": []
          },
          "execution_count": 156
        }
      ]
    },
    {
      "cell_type": "code",
      "metadata": {
        "colab": {
          "base_uri": "https://localhost:8080/"
        },
        "id": "w6T_61-mR4h8",
        "outputId": "a5a659aa-2dd7-4402-bbe0-fe850e0992a7"
      },
      "source": [
        "print(\"База - логрег, продвинутый  - xgb\")\n",
        "logreg_xgb_comp = rwa_two_models('logreg_pd', 'diff_pd')\n",
        "logreg_xgb_comp"
      ],
      "id": "w6T_61-mR4h8",
      "execution_count": 157,
      "outputs": [
        {
          "output_type": "stream",
          "text": [
            "База - логрег, продвинутый  - xgb\n",
            "Базовая модель\n",
            "Gini:  0.41082720436687925\n",
            "RWA на рубль:  0.8424178044155498\n",
            "RWA всего:  155179327425.76343\n",
            "-------------------------------\n",
            "Продвинутая модель\n",
            "Gini:  0.5324742200590096\n",
            "RWA на рубль:  0.8373997355922147\n",
            "RWA всего:  154254963599.52454\n",
            "-------------------------------\n",
            "Экономический эффект от улучшения модели\n",
            "924363826.238904\n"
          ],
          "name": "stdout"
        },
        {
          "output_type": "execute_result",
          "data": {
            "text/plain": [
              "{'adv_gini': 0.5324742200590096,\n",
              " 'adv_rwa': 154254963599.52454,\n",
              " 'adv_rwa_rub': 0.8373997355922147,\n",
              " 'base_gini': 0.41082720436687925,\n",
              " 'base_rwa': 155179327425.76343,\n",
              " 'base_rwa_rub': 0.8424178044155498}"
            ]
          },
          "metadata": {
            "tags": []
          },
          "execution_count": 157
        }
      ]
    },
    {
      "cell_type": "markdown",
      "metadata": {
        "id": "9Cf17foPoeGj"
      },
      "source": [
        "### Динамика"
      ],
      "id": "9Cf17foPoeGj"
    },
    {
      "cell_type": "code",
      "metadata": {
        "id": "0XbMbSoXo9dk"
      },
      "source": [
        "k=0.3\n",
        "\n",
        "def improve_logreg(k):\n",
        "  selected_index = np.random.choice(data_analysis.index.values, int(data_analysis.shape[0]*k), replace=False)\n",
        "  old_pds = data_analysis['logreg_pd'].copy()\n",
        "  old_pds.loc[selected_index] = data_analysis.loc[selected_index, 'diff_pd']\n",
        "  data_analysis['improved_pd'] = old_pds\n",
        "  new_model = eval_model(data_analysis, pd_column='improved_pd', default_column='target', ead_column='AMT_CREDIT')\n",
        "  return new_model"
      ],
      "id": "0XbMbSoXo9dk",
      "execution_count": 158,
      "outputs": []
    },
    {
      "cell_type": "code",
      "metadata": {
        "colab": {
          "base_uri": "https://localhost:8080/"
        },
        "id": "uDrIw1SbxDz0",
        "outputId": "5cc01b7b-a38a-4df8-9ae7-54a091266a57"
      },
      "source": [
        "improvement_log = list()\n",
        "for k in tqdm(range(101)):\n",
        "  improvement_log.append(improve_logreg(k/100))"
      ],
      "id": "uDrIw1SbxDz0",
      "execution_count": 159,
      "outputs": [
        {
          "output_type": "stream",
          "text": [
            "100%|██████████| 101/101 [00:21<00:00,  4.62it/s]\n"
          ],
          "name": "stderr"
        }
      ]
    },
    {
      "cell_type": "code",
      "metadata": {
        "id": "ZtwZag4Uv_-P"
      },
      "source": [
        "improvement_ginis = [l[0] for l in improvement_log]\n",
        "improvement_rwa_rub = [l[1] for l in improvement_log]"
      ],
      "id": "ZtwZag4Uv_-P",
      "execution_count": 160,
      "outputs": []
    },
    {
      "cell_type": "code",
      "metadata": {
        "colab": {
          "base_uri": "https://localhost:8080/",
          "height": 297
        },
        "id": "zLIQ3_YByUMF",
        "outputId": "f4859c45-945a-485c-d68b-2c1e77e7fd17"
      },
      "source": [
        "sns.scatterplot(x = improvement_ginis, y = improvement_rwa_rub)\n",
        "plt.xlabel('Gini')\n",
        "plt.ylabel('RWA на рубль Exposure')"
      ],
      "id": "zLIQ3_YByUMF",
      "execution_count": 161,
      "outputs": [
        {
          "output_type": "execute_result",
          "data": {
            "text/plain": [
              "Text(0, 0.5, 'RWA на рубль Exposure')"
            ]
          },
          "metadata": {
            "tags": []
          },
          "execution_count": 161
        },
        {
          "output_type": "display_data",
          "data": {
            "image/png": "[encoded data removed]",
            "text/plain": [
              "<Figure size 432x288 with 1 Axes>"
            ]
          },
          "metadata": {
            "tags": [],
            "needs_background": "light"
          }
        }
      ]
    },
    {
      "cell_type": "code",
      "metadata": {
        "colab": {
          "base_uri": "https://localhost:8080/",
          "height": 283
        },
        "id": "yUiy5pfLxqry",
        "outputId": "0ad32130-600d-443a-acf6-245173774b66"
      },
      "source": [
        "plt.plot(improvement_ginis)"
      ],
      "id": "yUiy5pfLxqry",
      "execution_count": 162,
      "outputs": [
        {
          "output_type": "execute_result",
          "data": {
            "text/plain": [
              "[<matplotlib.lines.Line2D at 0x7fdb88d8c750>]"
            ]
          },
          "metadata": {
            "tags": []
          },
          "execution_count": 162
        },
        {
          "output_type": "display_data",
          "data": {
            "image/png": "[encoded data removed]",
            "text/plain": [
              "<Figure size 432x288 with 1 Axes>"
            ]
          },
          "metadata": {
            "tags": [],
            "needs_background": "light"
          }
        }
      ]
    },
    {
      "cell_type": "code",
      "metadata": {
        "colab": {
          "base_uri": "https://localhost:8080/",
          "height": 283
        },
        "id": "DyVE6tqqwDji",
        "outputId": "3524a656-b7a5-4ae3-ceb3-5ae7b91d250c"
      },
      "source": [
        "plt.plot(improvement_rwa_rub)"
      ],
      "id": "DyVE6tqqwDji",
      "execution_count": 163,
      "outputs": [
        {
          "output_type": "execute_result",
          "data": {
            "text/plain": [
              "[<matplotlib.lines.Line2D at 0x7fdb88cf9090>]"
            ]
          },
          "metadata": {
            "tags": []
          },
          "execution_count": 163
        },
        {
          "output_type": "display_data",
          "data": {
            "image/png": "[encoded data removed]",
            "text/plain": [
              "<Figure size 432x288 with 1 Axes>"
            ]
          },
          "metadata": {
            "tags": [],
            "needs_background": "light"
          }
        }
      ]
    },
    {
      "cell_type": "markdown",
      "metadata": {
        "id": "KSjq6wpEZ6XX"
      },
      "source": [
        "## Оценка по доходности"
      ],
      "id": "KSjq6wpEZ6XX"
    },
    {
      "cell_type": "code",
      "metadata": {
        "id": "jgKkJ3gfZ-z_"
      },
      "source": [
        "def get_profit(pds, defaults, margins, eads, lgds = 0.72, th=0.04):\n",
        "    predicted_class = (pds>th).astype(int)\n",
        "    tn, fp, fn, tp = confusion_matrix(defaults, predicted_class).ravel()\n",
        "    profit = np.sum(tn*margins - fp*margins - fn*eads*lgds)/np.sum(eads)\n",
        "    return profit"
      ],
      "id": "jgKkJ3gfZ-z_",
      "execution_count": 165,
      "outputs": []
    },
    {
      "cell_type": "code",
      "metadata": {
        "id": "R7wxK2roSVPY"
      },
      "source": [
        "def analize_profits(model_pd):\n",
        "  profits = list()\n",
        "  for t in range(50):\n",
        "    th = t/100\n",
        "    profit = get_profit(pds = data_analysis[model_pd], \n",
        "                defaults = data_analysis['target'], \n",
        "                margins = data_analysis['AMT_CREDIT']*0.1, \n",
        "                eads = data_analysis['AMT_CREDIT'],\n",
        "                th=th)\n",
        "    profits.append(profit)\n",
        "  return profits"
      ],
      "id": "R7wxK2roSVPY",
      "execution_count": 166,
      "outputs": []
    },
    {
      "cell_type": "code",
      "metadata": {
        "colab": {
          "base_uri": "https://localhost:8080/",
          "height": 421
        },
        "id": "EAkSzfBAjnKv",
        "outputId": "a730679d-8870-4b14-bd0a-fadd03b194fe"
      },
      "source": [
        "profits_logreg = analize_profits('logreg_pd')\n",
        "profits_xgb = analize_profits('diff_pd')\n",
        "\n",
        "plt.figure(figsize=[8,6])\n",
        "plt.plot(profits_xgb, label=\"Доходность продвинутой модели\")\n",
        "plt.plot(profits_logreg, label=\"Доходность базовой модели\")\n",
        "plt.xlabel('Порог отсечения (%)')\n",
        "plt.ylabel('Доходность (рублей/кредит)')\n",
        "plt.title(\"Сравнение доходностей по двум моделям\")\n",
        "plt.legend()"
      ],
      "id": "EAkSzfBAjnKv",
      "execution_count": 167,
      "outputs": [
        {
          "output_type": "execute_result",
          "data": {
            "text/plain": [
              "<matplotlib.legend.Legend at 0x7fdb88d285d0>"
            ]
          },
          "metadata": {
            "tags": []
          },
          "execution_count": 167
        },
        {
          "output_type": "display_data",
          "data": {
            "image/png": "[encoded data removed]",
            "text/plain": [
              "<Figure size 576x432 with 1 Axes>"
            ]
          },
          "metadata": {
            "tags": [],
            "needs_background": "light"
          }
        }
      ]
    },
    {
      "cell_type": "code",
      "metadata": {
        "colab": {
          "base_uri": "https://localhost:8080/",
          "height": 421
        },
        "id": "eLAKD7IwiLZ1",
        "outputId": "caaad1d6-621b-4458-a3f9-259bcaeb8949"
      },
      "source": [
        "profit_difference = np.array(profits_xgb) - np.array(profits_logreg)\n",
        "\n",
        "plt.figure(figsize=[8,6])\n",
        "plt.plot(profit_difference, label=\"Доходность продвинутой модели\")\n",
        "plt.xlabel('Порог отсечения (%)')\n",
        "plt.ylabel('Доходность (рублей)')\n",
        "plt.title(\"Доходность от продвинутой модели\")\n",
        "plt.legend()"
      ],
      "id": "eLAKD7IwiLZ1",
      "execution_count": 168,
      "outputs": [
        {
          "output_type": "execute_result",
          "data": {
            "text/plain": [
              "<matplotlib.legend.Legend at 0x7fdb88c76150>"
            ]
          },
          "metadata": {
            "tags": []
          },
          "execution_count": 168
        },
        {
          "output_type": "display_data",
          "data": {
            "image/png": "[encoded data removed]",
            "text/plain": [
              "<Figure size 576x432 with 1 Axes>"
            ]
          },
          "metadata": {
            "tags": [],
            "needs_background": "light"
          }
        }
      ]
    },
    {
      "cell_type": "code",
      "metadata": {
        "id": "FRZGNgBEYT5E"
      },
      "source": [
        "def profit_comparisson(base_profits, adv_profits, total_count):\n",
        "  base_best_profit = np.max(base_profits)\n",
        "  adv_best_profit = np.max(adv_profits)\n",
        "  base_total_profit = base_best_profit * total_count\n",
        "  adv_total_profit = adv_best_profit * total_count\n",
        "\n",
        "  return {'base_best_profit':base_best_profit, \n",
        "          'base_total_profit':base_total_profit, \n",
        "          'adv_best_profit':adv_best_profit, \n",
        "          'adv_total_profit':adv_total_profit}\n"
      ],
      "id": "FRZGNgBEYT5E",
      "execution_count": 169,
      "outputs": []
    },
    {
      "cell_type": "code",
      "metadata": {
        "colab": {
          "base_uri": "https://localhost:8080/"
        },
        "id": "Bib9QDALY8wL",
        "outputId": "04426e0e-345d-4859-9374-68879983d8ad"
      },
      "source": [
        "logreg_xgb_profits_comp = profit_comparisson(profits_logreg, profits_xgb, X_train.shape[0])\n",
        "logreg_xgb_profits_comp"
      ],
      "id": "Bib9QDALY8wL",
      "execution_count": 170,
      "outputs": [
        {
          "output_type": "execute_result",
          "data": {
            "text/plain": [
              "{'adv_best_profit': 12406.199999999999,\n",
              " 'adv_total_profit': 3815042968.2,\n",
              " 'base_best_profit': 10893.4,\n",
              " 'base_total_profit': 3349840327.4}"
            ]
          },
          "metadata": {
            "tags": []
          },
          "execution_count": 170
        }
      ]
    },
    {
      "cell_type": "markdown",
      "metadata": {
        "id": "DMVOniqIWslG"
      },
      "source": [
        "## Таблица сравнения логрега и бустинга"
      ],
      "id": "DMVOniqIWslG"
    },
    {
      "cell_type": "code",
      "metadata": {
        "id": "-5puUAxaWw1o"
      },
      "source": [
        "comparisson = pd.DataFrame()"
      ],
      "id": "-5puUAxaWw1o",
      "execution_count": 171,
      "outputs": []
    },
    {
      "cell_type": "code",
      "metadata": {
        "id": "btukXE0iXL7G"
      },
      "source": [
        "comparisson.loc['gini', 'Логрег']=logreg_xgb_comp['base_gini']\n",
        "comparisson.loc['gini', 'Бустинг']=logreg_xgb_comp['adv_gini']\n",
        "\n",
        "comparisson.loc['Максимальная средняя доходность с кредита', 'Логрег']=logreg_xgb_profits_comp['base_best_profit']\n",
        "comparisson.loc['Максимальная средняя доходность с кредита', 'Бустинг']=logreg_xgb_profits_comp['adv_best_profit']\n",
        "\n",
        "comparisson.loc['Максимальный доход с потока (млн. руб)', 'Логрег']=round(logreg_xgb_profits_comp['base_total_profit']/1000000, 0)\n",
        "comparisson.loc['Максимальный доход с потока (млн. руб)', 'Бустинг']=round(logreg_xgb_profits_comp['adv_total_profit']/1000000, 0)\n",
        "\n",
        "comparisson.loc['RWA на рубль EAD', 'Логрег']=logreg_xgb_comp['base_rwa_rub']\n",
        "comparisson.loc['RWA на рубль EAD', 'Бустинг']=logreg_xgb_comp['adv_rwa_rub']\n",
        "\n",
        "comparisson.loc['RWA (млн. руб)', 'Логрег']=round(logreg_xgb_comp['base_rwa']/1000000)\n",
        "comparisson.loc['RWA (млн. руб)', 'Бустинг']=round(logreg_xgb_comp['adv_rwa']/1000000)"
      ],
      "id": "btukXE0iXL7G",
      "execution_count": 172,
      "outputs": []
    },
    {
      "cell_type": "code",
      "metadata": {
        "id": "4Ygta8jncym6"
      },
      "source": [
        "comparisson['Изменение'] = comparisson['Бустинг'] - comparisson['Логрег']\n",
        "comparisson['Относительное изменение (%)'] = comparisson['Изменение'] / comparisson['Логрег'] *100"
      ],
      "id": "4Ygta8jncym6",
      "execution_count": 173,
      "outputs": []
    },
    {
      "cell_type": "code",
      "metadata": {
        "colab": {
          "base_uri": "https://localhost:8080/",
          "height": 200
        },
        "id": "G80dZ2-lagWf",
        "outputId": "48e8aecb-f013-4097-df64-c6b239da901f"
      },
      "source": [
        "pd.set_option('display.float_format', lambda x: '%.3f' % x)\n",
        "comparisson"
      ],
      "id": "G80dZ2-lagWf",
      "execution_count": 174,
      "outputs": [
        {
          "output_type": "execute_result",
          "data": {
            "text/html": [
              "<div>\n",
              "<style scoped>\n",
              "    .dataframe tbody tr th:only-of-type {\n",
              "        vertical-align: middle;\n",
              "    }\n",
              "\n",
              "    .dataframe tbody tr th {\n",
              "        vertical-align: top;\n",
              "    }\n",
              "\n",
              "    .dataframe thead th {\n",
              "        text-align: right;\n",
              "    }\n",
              "</style>\n",
              "<table border=\"1\" class=\"dataframe\">\n",
              "  <thead>\n",
              "    <tr style=\"text-align: right;\">\n",
              "      <th></th>\n",
              "      <th>Логрег</th>\n",
              "      <th>Бустинг</th>\n",
              "      <th>Изменение</th>\n",
              "      <th>Относительное изменение (%)</th>\n",
              "    </tr>\n",
              "  </thead>\n",
              "  <tbody>\n",
              "    <tr>\n",
              "      <th>gini</th>\n",
              "      <td>0.411</td>\n",
              "      <td>0.532</td>\n",
              "      <td>0.122</td>\n",
              "      <td>29.610</td>\n",
              "    </tr>\n",
              "    <tr>\n",
              "      <th>Максимальная средняя доходность с кредита</th>\n",
              "      <td>10893.400</td>\n",
              "      <td>12406.200</td>\n",
              "      <td>1512.800</td>\n",
              "      <td>13.887</td>\n",
              "    </tr>\n",
              "    <tr>\n",
              "      <th>Максимальный доход с потока (млн. руб)</th>\n",
              "      <td>3350.000</td>\n",
              "      <td>3815.000</td>\n",
              "      <td>465.000</td>\n",
              "      <td>13.881</td>\n",
              "    </tr>\n",
              "    <tr>\n",
              "      <th>RWA на рубль EAD</th>\n",
              "      <td>0.842</td>\n",
              "      <td>0.837</td>\n",
              "      <td>-0.005</td>\n",
              "      <td>-0.596</td>\n",
              "    </tr>\n",
              "    <tr>\n",
              "      <th>RWA (млн. руб)</th>\n",
              "      <td>155179.000</td>\n",
              "      <td>154255.000</td>\n",
              "      <td>-924.000</td>\n",
              "      <td>-0.595</td>\n",
              "    </tr>\n",
              "  </tbody>\n",
              "</table>\n",
              "</div>"
            ],
            "text/plain": [
              "                                              Логрег  ...  Относительное изменение (%)\n",
              "gini                                           0.411  ...                       29.610\n",
              "Максимальная средняя доходность с кредита  10893.400  ...                       13.887\n",
              "Максимальный доход с потока (млн. руб)      3350.000  ...                       13.881\n",
              "RWA на рубль EAD                               0.842  ...                       -0.596\n",
              "RWA (млн. руб)                            155179.000  ...                       -0.595\n",
              "\n",
              "[5 rows x 4 columns]"
            ]
          },
          "metadata": {
            "tags": []
          },
          "execution_count": 174
        }
      ]
    },
    {
      "cell_type": "code",
      "metadata": {
        "id": "KF3lpcDejl22"
      },
      "source": [
        ""
      ],
      "id": "KF3lpcDejl22",
      "execution_count": null,
      "outputs": []
    }
  ]
}